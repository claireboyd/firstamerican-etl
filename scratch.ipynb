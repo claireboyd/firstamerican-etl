{
 "cells": [
  {
   "cell_type": "code",
   "execution_count": 2,
   "metadata": {},
   "outputs": [],
   "source": [
    "#set up autoreload\n",
    "%load_ext autoreload\n",
    "%autoreload 2"
   ]
  },
  {
   "cell_type": "code",
   "execution_count": 3,
   "metadata": {},
   "outputs": [],
   "source": [
    "import polars as pl\n",
    "from pathlib import Path\n",
    "\n",
    "import importlib  \n",
    "fa_etl_dev = importlib.import_module(\"fa-etl-dev\")"
   ]
  },
  {
   "attachments": {},
   "cell_type": "markdown",
   "metadata": {},
   "source": [
    "initial data quality checks\n",
    "\n",
    "1. Check if all parcels in annual file exist in tax & val hist:\n",
    "    * 36061: yes\n",
    "    * 42101: not all (606/582083 of props in annual are not in tax hist, all in value hist)\n",
    "    * 48203: yes"
   ]
  },
  {
   "cell_type": "code",
   "execution_count": 68,
   "metadata": {},
   "outputs": [],
   "source": [
    "county = \"36061\""
   ]
  },
  {
   "cell_type": "code",
   "execution_count": 69,
   "metadata": {},
   "outputs": [],
   "source": [
    "taxhist = pl.read_parquet(f\"/Users/claireboyd/internships/mansueto/fa-etl/dev-data/raw_{county}/parquet/TaxHist{county}.parquet\")\n",
    "valhist = pl.read_parquet(f\"/Users/claireboyd/internships/mansueto/fa-etl/dev-data/raw_{county}/parquet/ValHist{county}.parquet\")\n",
    "annual = pl.read_parquet(f\"/Users/claireboyd/internships/mansueto/fa-etl/dev-data/raw_{county}/parquet/Prop{county}.parquet\")\n",
    "\n",
    "annual = annual.with_columns([\n",
    "    pl.col(\"PropertyID\").is_in(taxhist['PropertyID']).alias(\"in_taxhist\"),\n",
    "    pl.col(\"PropertyID\").is_in(valhist['PropertyID']).alias(\"in_valhist\")\n",
    "    ])"
   ]
  },
  {
   "cell_type": "code",
   "execution_count": 55,
   "metadata": {},
   "outputs": [
    {
     "data": {
      "text/html": [
       "<div><style>\n",
       ".dataframe > thead > tr,\n",
       ".dataframe > tbody > tr {\n",
       "  text-align: right;\n",
       "  white-space: pre-wrap;\n",
       "}\n",
       "</style>\n",
       "<small>shape: (2, 2)</small><table border=\"1\" class=\"dataframe\"><thead><tr><th>in_taxhist</th><th>count</th></tr><tr><td>bool</td><td>u32</td></tr></thead><tbody><tr><td>true</td><td>582083</td></tr><tr><td>false</td><td>606</td></tr></tbody></table></div>"
      ],
      "text/plain": [
       "shape: (2, 2)\n",
       "┌────────────┬────────┐\n",
       "│ in_taxhist ┆ count  │\n",
       "│ ---        ┆ ---    │\n",
       "│ bool       ┆ u32    │\n",
       "╞════════════╪════════╡\n",
       "│ true       ┆ 582083 │\n",
       "│ false      ┆ 606    │\n",
       "└────────────┴────────┘"
      ]
     },
     "execution_count": 55,
     "metadata": {},
     "output_type": "execute_result"
    }
   ],
   "source": [
    "annual[\"in_taxhist\"].value_counts()"
   ]
  },
  {
   "cell_type": "code",
   "execution_count": 56,
   "metadata": {},
   "outputs": [
    {
     "data": {
      "text/html": [
       "<div><style>\n",
       ".dataframe > thead > tr,\n",
       ".dataframe > tbody > tr {\n",
       "  text-align: right;\n",
       "  white-space: pre-wrap;\n",
       "}\n",
       "</style>\n",
       "<small>shape: (1, 2)</small><table border=\"1\" class=\"dataframe\"><thead><tr><th>in_valhist</th><th>count</th></tr><tr><td>bool</td><td>u32</td></tr></thead><tbody><tr><td>true</td><td>582689</td></tr></tbody></table></div>"
      ],
      "text/plain": [
       "shape: (1, 2)\n",
       "┌────────────┬────────┐\n",
       "│ in_valhist ┆ count  │\n",
       "│ ---        ┆ ---    │\n",
       "│ bool       ┆ u32    │\n",
       "╞════════════╪════════╡\n",
       "│ true       ┆ 582689 │\n",
       "└────────────┴────────┘"
      ]
     },
     "execution_count": 56,
     "metadata": {},
     "output_type": "execute_result"
    }
   ],
   "source": [
    "annual[\"in_valhist\"].value_counts()"
   ]
  },
  {
   "cell_type": "code",
   "execution_count": 58,
   "metadata": {},
   "outputs": [
    {
     "data": {
      "text/html": [
       "<div><style>\n",
       ".dataframe > thead > tr,\n",
       ".dataframe > tbody > tr {\n",
       "  text-align: right;\n",
       "  white-space: pre-wrap;\n",
       "}\n",
       "</style>\n",
       "<small>shape: (606, 16)</small><table border=\"1\" class=\"dataframe\"><thead><tr><th>PropertyID</th><th>PropertyClassID</th><th>FATimeStamp</th><th>SitusLatitude</th><th>SitusLongitude</th><th>SitusFullStreetAddress</th><th>SitusCity</th><th>SitusState</th><th>SitusZIP5</th><th>FIPS</th><th>SitusCensusTract</th><th>SitusCensusBlock</th><th>SitusGeoStatusCode</th><th>FIPS_SitusCensusTract</th><th>in_taxhist</th><th>in_valhist</th></tr><tr><td>i64</td><td>str</td><td>date</td><td>f64</td><td>f64</td><td>str</td><td>str</td><td>str</td><td>str</td><td>str</td><td>str</td><td>str</td><td>str</td><td>str</td><td>bool</td><td>bool</td></tr></thead><tbody><tr><td>174478576</td><td>&quot;R&quot;</td><td>2024-01-19</td><td>39.968017</td><td>-75.140509</td><td>&quot;1115 N AMERICA…</td><td>&quot;PHILADELPHIA&quot;</td><td>&quot;PA&quot;</td><td>&quot;19123&quot;</td><td>&quot;42101&quot;</td><td>&quot;014201&quot;</td><td>&quot;2019&quot;</td><td>&quot;B&quot;</td><td>&quot;42101_14201&quot;</td><td>false</td><td>true</td></tr><tr><td>174478665</td><td>&quot;R&quot;</td><td>2024-01-19</td><td>39.982104</td><td>-75.148186</td><td>&quot;815 W NORRIS S…</td><td>&quot;PHILADELPHIA&quot;</td><td>&quot;PA&quot;</td><td>&quot;19122&quot;</td><td>&quot;42101&quot;</td><td>&quot;037700&quot;</td><td>&quot;2016&quot;</td><td>&quot;B&quot;</td><td>&quot;42101_37700&quot;</td><td>false</td><td>true</td></tr><tr><td>174478690</td><td>&quot;R&quot;</td><td>2024-01-19</td><td>39.943665</td><td>-75.173498</td><td>&quot;701 S 19TH ST …</td><td>&quot;PHILADELPHIA&quot;</td><td>&quot;PA&quot;</td><td>&quot;19146&quot;</td><td>&quot;42101&quot;</td><td>&quot;001400&quot;</td><td>&quot;1004&quot;</td><td>&quot;B&quot;</td><td>&quot;42101_1400&quot;</td><td>false</td><td>true</td></tr><tr><td>174478776</td><td>&quot;R&quot;</td><td>2024-01-19</td><td>39.968017</td><td>-75.140509</td><td>&quot;1115 N AMERICA…</td><td>&quot;PHILADELPHIA&quot;</td><td>&quot;PA&quot;</td><td>&quot;19123&quot;</td><td>&quot;42101&quot;</td><td>&quot;014201&quot;</td><td>&quot;2019&quot;</td><td>&quot;B&quot;</td><td>&quot;42101_14201&quot;</td><td>false</td><td>true</td></tr><tr><td>174478783</td><td>&quot;R&quot;</td><td>2024-01-19</td><td>39.968017</td><td>-75.140509</td><td>&quot;1115 N AMERICA…</td><td>&quot;PHILADELPHIA&quot;</td><td>&quot;PA&quot;</td><td>&quot;19123&quot;</td><td>&quot;42101&quot;</td><td>&quot;014201&quot;</td><td>&quot;2019&quot;</td><td>&quot;B&quot;</td><td>&quot;42101_14201&quot;</td><td>false</td><td>true</td></tr><tr><td>174478851</td><td>&quot;R&quot;</td><td>2024-01-19</td><td>39.968017</td><td>-75.140509</td><td>&quot;1115 N AMERICA…</td><td>&quot;PHILADELPHIA&quot;</td><td>&quot;PA&quot;</td><td>&quot;19123&quot;</td><td>&quot;42101&quot;</td><td>&quot;014201&quot;</td><td>&quot;2019&quot;</td><td>&quot;B&quot;</td><td>&quot;42101_14201&quot;</td><td>false</td><td>true</td></tr><tr><td>174478865</td><td>&quot;R&quot;</td><td>2024-01-19</td><td>39.97202</td><td>-75.16775</td><td>&quot;924 N 19TH ST&quot;</td><td>&quot;PHILADELPHIA&quot;</td><td>&quot;PA&quot;</td><td>&quot;19130&quot;</td><td>&quot;42101&quot;</td><td>&quot;013900&quot;</td><td>&quot;3006&quot;</td><td>&quot;B&quot;</td><td>&quot;42101_13900&quot;</td><td>false</td><td>true</td></tr><tr><td>174478633</td><td>&quot;R&quot;</td><td>2024-01-19</td><td>39.98217</td><td>-75.142657</td><td>&quot;2009 N REESE S…</td><td>&quot;PHILADELPHIA&quot;</td><td>&quot;PA&quot;</td><td>&quot;19122&quot;</td><td>&quot;42101&quot;</td><td>&quot;015600&quot;</td><td>&quot;2005&quot;</td><td>&quot;9&quot;</td><td>&quot;42101_15600&quot;</td><td>false</td><td>true</td></tr><tr><td>174478683</td><td>&quot;R&quot;</td><td>2024-01-19</td><td>39.983137</td><td>-75.146981</td><td>&quot;2053 N 8TH ST …</td><td>&quot;PHILADELPHIA&quot;</td><td>&quot;PA&quot;</td><td>&quot;19122&quot;</td><td>&quot;42101&quot;</td><td>&quot;037700&quot;</td><td>&quot;2014&quot;</td><td>&quot;B&quot;</td><td>&quot;42101_37700&quot;</td><td>false</td><td>true</td></tr><tr><td>174478740</td><td>&quot;R&quot;</td><td>2024-01-19</td><td>39.933532</td><td>-75.156733</td><td>&quot;722 MANTON ST&quot;</td><td>&quot;PHILADELPHIA&quot;</td><td>&quot;PA&quot;</td><td>&quot;19147&quot;</td><td>&quot;42101&quot;</td><td>&quot;002400&quot;</td><td>&quot;2010&quot;</td><td>&quot;B&quot;</td><td>&quot;42101_2400&quot;</td><td>false</td><td>true</td></tr><tr><td>174478751</td><td>&quot;R&quot;</td><td>2024-01-19</td><td>39.968017</td><td>-75.140509</td><td>&quot;1115 N AMERICA…</td><td>&quot;PHILADELPHIA&quot;</td><td>&quot;PA&quot;</td><td>&quot;19123&quot;</td><td>&quot;42101&quot;</td><td>&quot;014201&quot;</td><td>&quot;2019&quot;</td><td>&quot;B&quot;</td><td>&quot;42101_14201&quot;</td><td>false</td><td>true</td></tr><tr><td>174478808</td><td>&quot;R&quot;</td><td>2024-01-19</td><td>39.981735</td><td>-75.130363</td><td>&quot;2224 AMBER ST …</td><td>&quot;PHILADELPHIA&quot;</td><td>&quot;PA&quot;</td><td>&quot;19125&quot;</td><td>&quot;42101&quot;</td><td>&quot;016100&quot;</td><td>&quot;1021&quot;</td><td>&quot;9&quot;</td><td>&quot;42101_16100&quot;</td><td>false</td><td>true</td></tr><tr><td>&hellip;</td><td>&hellip;</td><td>&hellip;</td><td>&hellip;</td><td>&hellip;</td><td>&hellip;</td><td>&hellip;</td><td>&hellip;</td><td>&hellip;</td><td>&hellip;</td><td>&hellip;</td><td>&hellip;</td><td>&hellip;</td><td>&hellip;</td><td>&hellip;</td><td>&hellip;</td></tr><tr><td>175244732</td><td>&quot;R&quot;</td><td>2024-01-19</td><td>39.973342</td><td>-75.139487</td><td>&quot;1436 N PHILIP …</td><td>&quot;PHILADELPHIA&quot;</td><td>&quot;PA&quot;</td><td>&quot;19122&quot;</td><td>&quot;42101&quot;</td><td>&quot;014400&quot;</td><td>&quot;4008&quot;</td><td>&quot;9&quot;</td><td>&quot;42101_14400&quot;</td><td>false</td><td>true</td></tr><tr><td>174478534</td><td>&quot;C&quot;</td><td>2024-01-19</td><td>39.94914</td><td>-75.168068</td><td>&quot;1636 CHANCELLO…</td><td>&quot;PHILADELPHIA&quot;</td><td>&quot;PA&quot;</td><td>&quot;19103&quot;</td><td>&quot;42101&quot;</td><td>&quot;000805&quot;</td><td>&quot;2001&quot;</td><td>&quot;9&quot;</td><td>&quot;42101_805&quot;</td><td>false</td><td>true</td></tr><tr><td>175244774</td><td>&quot;R&quot;</td><td>2024-01-22</td><td>39.968939</td><td>-75.165865</td><td>&quot;1723 FRANCIS S…</td><td>&quot;PHILADELPHIA&quot;</td><td>&quot;PA&quot;</td><td>&quot;19130&quot;</td><td>&quot;42101&quot;</td><td>&quot;013500&quot;</td><td>&quot;2011&quot;</td><td>&quot;B&quot;</td><td>&quot;42101_13500&quot;</td><td>false</td><td>true</td></tr><tr><td>174478800</td><td>&quot;V&quot;</td><td>2024-01-19</td><td>39.954237</td><td>-75.224854</td><td>&quot;5128 SPRUCE ST…</td><td>&quot;PHILADELPHIA&quot;</td><td>&quot;PA&quot;</td><td>&quot;19139&quot;</td><td>&quot;42101&quot;</td><td>&quot;008500&quot;</td><td>&quot;3005&quot;</td><td>&quot;9&quot;</td><td>&quot;42101_8500&quot;</td><td>false</td><td>true</td></tr><tr><td>174478785</td><td>&quot;V&quot;</td><td>2024-01-19</td><td>39.967735</td><td>-75.162174</td><td>&quot;716 N 15TH ST …</td><td>&quot;PHILADELPHIA&quot;</td><td>&quot;PA&quot;</td><td>&quot;19130&quot;</td><td>&quot;42101&quot;</td><td>&quot;013300&quot;</td><td>&quot;1016&quot;</td><td>&quot;B&quot;</td><td>&quot;42101_13300&quot;</td><td>false</td><td>true</td></tr><tr><td>175245059</td><td>&quot;R&quot;</td><td>2024-01-19</td><td>39.984337</td><td>-75.119278</td><td>&quot;2157 E LEHIGH …</td><td>&quot;PHILADELPHIA&quot;</td><td>&quot;PA&quot;</td><td>&quot;19125&quot;</td><td>&quot;42101&quot;</td><td>&quot;017900&quot;</td><td>&quot;5013&quot;</td><td>&quot;9&quot;</td><td>&quot;42101_17900&quot;</td><td>false</td><td>true</td></tr><tr><td>174478557</td><td>&quot;V&quot;</td><td>2024-01-19</td><td>39.96518</td><td>-75.130313</td><td>&quot;1121 N DELAWAR…</td><td>&quot;PHILADELPHIA&quot;</td><td>&quot;PA&quot;</td><td>&quot;19125&quot;</td><td>&quot;42101&quot;</td><td>&quot;014202&quot;</td><td>&quot;3000&quot;</td><td>&quot;B&quot;</td><td>&quot;42101_14202&quot;</td><td>false</td><td>true</td></tr><tr><td>174478542</td><td>null</td><td>2024-01-19</td><td>39.982012</td><td>-75.113315</td><td>&quot;2847 MILLER ST…</td><td>&quot;PHILADELPHIA&quot;</td><td>&quot;PA&quot;</td><td>&quot;19134&quot;</td><td>&quot;42101&quot;</td><td>&quot;018001&quot;</td><td>&quot;3006&quot;</td><td>&quot;9&quot;</td><td>&quot;42101_18001&quot;</td><td>false</td><td>true</td></tr><tr><td>174478680</td><td>&quot;I&quot;</td><td>2024-01-19</td><td>39.985281</td><td>-75.117715</td><td>&quot;2200 E SOMERSE…</td><td>&quot;PHILADELPHIA&quot;</td><td>&quot;PA&quot;</td><td>&quot;19134&quot;</td><td>&quot;42101&quot;</td><td>&quot;017900&quot;</td><td>&quot;5010&quot;</td><td>&quot;B&quot;</td><td>&quot;42101_17900&quot;</td><td>false</td><td>true</td></tr><tr><td>175244881</td><td>&quot;V&quot;</td><td>2024-01-19</td><td>39.968109</td><td>-75.134983</td><td>&quot;1144 FRANKFORD…</td><td>&quot;PHILADELPHIA&quot;</td><td>&quot;PA&quot;</td><td>&quot;19125&quot;</td><td>&quot;42101&quot;</td><td>&quot;014202&quot;</td><td>&quot;1000&quot;</td><td>&quot;B&quot;</td><td>&quot;42101_14202&quot;</td><td>false</td><td>true</td></tr><tr><td>174478706</td><td>&quot;V&quot;</td><td>2024-01-19</td><td>39.983299</td><td>-75.132077</td><td>&quot;2219 EMERALD S…</td><td>&quot;PHILADELPHIA&quot;</td><td>&quot;PA&quot;</td><td>&quot;19125&quot;</td><td>&quot;42101&quot;</td><td>&quot;016100&quot;</td><td>&quot;1014&quot;</td><td>&quot;B&quot;</td><td>&quot;42101_16100&quot;</td><td>false</td><td>true</td></tr><tr><td>174478792</td><td>&quot;R&quot;</td><td>2024-02-22</td><td>39.926955</td><td>-75.152184</td><td>&quot;1701 S 4TH ST&quot;</td><td>&quot;PHILADELPHIA&quot;</td><td>&quot;PA&quot;</td><td>&quot;19148&quot;</td><td>&quot;42101&quot;</td><td>&quot;002702&quot;</td><td>&quot;1005&quot;</td><td>&quot;B&quot;</td><td>&quot;42101_2702&quot;</td><td>false</td><td>true</td></tr></tbody></table></div>"
      ],
      "text/plain": [
       "shape: (606, 16)\n",
       "┌───────────┬───────────┬───────────┬───────────┬───┬───────────┬───────────┬───────────┬──────────┐\n",
       "│ PropertyI ┆ PropertyC ┆ FATimeSta ┆ SitusLati ┆ … ┆ SitusGeoS ┆ FIPS_Situ ┆ in_taxhis ┆ in_valhi │\n",
       "│ D         ┆ lassID    ┆ mp        ┆ tude      ┆   ┆ tatusCode ┆ sCensusTr ┆ t         ┆ st       │\n",
       "│ ---       ┆ ---       ┆ ---       ┆ ---       ┆   ┆ ---       ┆ act       ┆ ---       ┆ ---      │\n",
       "│ i64       ┆ str       ┆ date      ┆ f64       ┆   ┆ str       ┆ ---       ┆ bool      ┆ bool     │\n",
       "│           ┆           ┆           ┆           ┆   ┆           ┆ str       ┆           ┆          │\n",
       "╞═══════════╪═══════════╪═══════════╪═══════════╪═══╪═══════════╪═══════════╪═══════════╪══════════╡\n",
       "│ 174478576 ┆ R         ┆ 2024-01-1 ┆ 39.968017 ┆ … ┆ B         ┆ 42101_142 ┆ false     ┆ true     │\n",
       "│           ┆           ┆ 9         ┆           ┆   ┆           ┆ 01        ┆           ┆          │\n",
       "│ 174478665 ┆ R         ┆ 2024-01-1 ┆ 39.982104 ┆ … ┆ B         ┆ 42101_377 ┆ false     ┆ true     │\n",
       "│           ┆           ┆ 9         ┆           ┆   ┆           ┆ 00        ┆           ┆          │\n",
       "│ 174478690 ┆ R         ┆ 2024-01-1 ┆ 39.943665 ┆ … ┆ B         ┆ 42101_140 ┆ false     ┆ true     │\n",
       "│           ┆           ┆ 9         ┆           ┆   ┆           ┆ 0         ┆           ┆          │\n",
       "│ 174478776 ┆ R         ┆ 2024-01-1 ┆ 39.968017 ┆ … ┆ B         ┆ 42101_142 ┆ false     ┆ true     │\n",
       "│           ┆           ┆ 9         ┆           ┆   ┆           ┆ 01        ┆           ┆          │\n",
       "│ 174478783 ┆ R         ┆ 2024-01-1 ┆ 39.968017 ┆ … ┆ B         ┆ 42101_142 ┆ false     ┆ true     │\n",
       "│           ┆           ┆ 9         ┆           ┆   ┆           ┆ 01        ┆           ┆          │\n",
       "│ …         ┆ …         ┆ …         ┆ …         ┆ … ┆ …         ┆ …         ┆ …         ┆ …        │\n",
       "│ 174478542 ┆ null      ┆ 2024-01-1 ┆ 39.982012 ┆ … ┆ 9         ┆ 42101_180 ┆ false     ┆ true     │\n",
       "│           ┆           ┆ 9         ┆           ┆   ┆           ┆ 01        ┆           ┆          │\n",
       "│ 174478680 ┆ I         ┆ 2024-01-1 ┆ 39.985281 ┆ … ┆ B         ┆ 42101_179 ┆ false     ┆ true     │\n",
       "│           ┆           ┆ 9         ┆           ┆   ┆           ┆ 00        ┆           ┆          │\n",
       "│ 175244881 ┆ V         ┆ 2024-01-1 ┆ 39.968109 ┆ … ┆ B         ┆ 42101_142 ┆ false     ┆ true     │\n",
       "│           ┆           ┆ 9         ┆           ┆   ┆           ┆ 02        ┆           ┆          │\n",
       "│ 174478706 ┆ V         ┆ 2024-01-1 ┆ 39.983299 ┆ … ┆ B         ┆ 42101_161 ┆ false     ┆ true     │\n",
       "│           ┆           ┆ 9         ┆           ┆   ┆           ┆ 00        ┆           ┆          │\n",
       "│ 174478792 ┆ R         ┆ 2024-02-2 ┆ 39.926955 ┆ … ┆ B         ┆ 42101_270 ┆ false     ┆ true     │\n",
       "│           ┆           ┆ 2         ┆           ┆   ┆           ┆ 2         ┆           ┆          │\n",
       "└───────────┴───────────┴───────────┴───────────┴───┴───────────┴───────────┴───────────┴──────────┘"
      ]
     },
     "execution_count": 58,
     "metadata": {},
     "output_type": "execute_result"
    }
   ],
   "source": [
    "annual.filter([\n",
    "    pl.col(\"in_taxhist\") == False\n",
    "])\n",
    "    "
   ]
  },
  {
   "attachments": {},
   "cell_type": "markdown",
   "metadata": {},
   "source": [
    "data quality checks:\n",
    "* check for composition of valhist\n",
    "* why am i losing data when i merge valhist with prop? 2871980 to 2868382"
   ]
  },
  {
   "cell_type": "code",
   "execution_count": 15,
   "metadata": {},
   "outputs": [],
   "source": [
    "fa_etl_dev.convert_taxhist(\"TaxHist36061.txt.zip\", \"/Users/claireboyd/internships/mansueto/fa-etl/dev-data/raw_small\")\n",
    "fa_etl_dev.convert_valhist(\"ValHist36061.txt.zip\", \"/Users/claireboyd/internships/mansueto/fa-etl/dev-data/raw_small\")"
   ]
  },
  {
   "cell_type": "code",
   "execution_count": 77,
   "metadata": {},
   "outputs": [
    {
     "data": {
      "text/html": [
       "<div><style>\n",
       ".dataframe > thead > tr,\n",
       ".dataframe > tbody > tr {\n",
       "  text-align: right;\n",
       "  white-space: pre-wrap;\n",
       "}\n",
       "</style>\n",
       "<small>shape: (869_429, 8)</small><table border=\"1\" class=\"dataframe\"><thead><tr><th>PropertyID</th><th>AssdTotalValue</th><th>AssdYear</th><th>MarketTotalValue</th><th>MarketValueYear</th><th>ApprTotalValue</th><th>ApprYear</th><th>TaxableYear</th></tr><tr><td>i64</td><td>i64</td><td>i64</td><td>i64</td><td>i64</td><td>i64</td><td>i64</td><td>i64</td></tr></thead><tbody><tr><td>91847126</td><td>0</td><td>2022</td><td>11488000</td><td>2022</td><td>0</td><td>null</td><td>null</td></tr><tr><td>91846931</td><td>0</td><td>2022</td><td>9018000</td><td>2022</td><td>0</td><td>null</td><td>null</td></tr><tr><td>91846943</td><td>0</td><td>2022</td><td>11073000</td><td>2022</td><td>0</td><td>null</td><td>null</td></tr><tr><td>91847071</td><td>0</td><td>2022</td><td>7274000</td><td>2022</td><td>0</td><td>null</td><td>null</td></tr><tr><td>91846533</td><td>0</td><td>2022</td><td>11421000</td><td>2022</td><td>0</td><td>null</td><td>null</td></tr><tr><td>91846901</td><td>0</td><td>2022</td><td>15977000</td><td>2022</td><td>0</td><td>null</td><td>null</td></tr><tr><td>91847954</td><td>0</td><td>2022</td><td>10707000</td><td>2022</td><td>0</td><td>null</td><td>null</td></tr><tr><td>91848631</td><td>0</td><td>2022</td><td>9228000</td><td>2022</td><td>0</td><td>null</td><td>null</td></tr><tr><td>91848390</td><td>0</td><td>2022</td><td>15584000</td><td>2022</td><td>0</td><td>null</td><td>null</td></tr><tr><td>91847108</td><td>0</td><td>2022</td><td>10914000</td><td>2022</td><td>0</td><td>null</td><td>null</td></tr><tr><td>91846840</td><td>0</td><td>2022</td><td>2208000</td><td>2022</td><td>0</td><td>null</td><td>null</td></tr><tr><td>91846133</td><td>0</td><td>2022</td><td>3925000</td><td>2022</td><td>0</td><td>null</td><td>null</td></tr><tr><td>&hellip;</td><td>&hellip;</td><td>&hellip;</td><td>&hellip;</td><td>&hellip;</td><td>&hellip;</td><td>&hellip;</td><td>&hellip;</td></tr><tr><td>91870245</td><td>0</td><td>2021</td><td>9242000</td><td>2021</td><td>0</td><td>null</td><td>null</td></tr><tr><td>91951112</td><td>0</td><td>2021</td><td>16591000</td><td>2021</td><td>0</td><td>null</td><td>null</td></tr><tr><td>91885503</td><td>0</td><td>2021</td><td>6544000</td><td>2021</td><td>0</td><td>null</td><td>null</td></tr><tr><td>91949781</td><td>0</td><td>2021</td><td>27908000</td><td>2021</td><td>0</td><td>null</td><td>null</td></tr><tr><td>91951266</td><td>0</td><td>2023</td><td>779000</td><td>2022</td><td>0</td><td>null</td><td>null</td></tr><tr><td>91949741</td><td>0</td><td>2023</td><td>1955000</td><td>2022</td><td>0</td><td>null</td><td>null</td></tr><tr><td>91949733</td><td>0</td><td>2023</td><td>222000</td><td>2022</td><td>0</td><td>null</td><td>null</td></tr><tr><td>91949740</td><td>0</td><td>2023</td><td>1991000</td><td>2022</td><td>0</td><td>null</td><td>null</td></tr><tr><td>91949743</td><td>0</td><td>2023</td><td>2060000</td><td>2022</td><td>0</td><td>null</td><td>null</td></tr><tr><td>91951265</td><td>0</td><td>2023</td><td>837000</td><td>2022</td><td>0</td><td>null</td><td>null</td></tr><tr><td>91951381</td><td>0</td><td>2023</td><td>850000</td><td>2022</td><td>0</td><td>null</td><td>null</td></tr><tr><td>91951267</td><td>0</td><td>2023</td><td>4713000</td><td>2022</td><td>0</td><td>null</td><td>null</td></tr></tbody></table></div>"
      ],
      "text/plain": [
       "shape: (869_429, 8)\n",
       "┌────────────┬────────────┬──────────┬────────────┬────────────┬────────────┬──────────┬───────────┐\n",
       "│ PropertyID ┆ AssdTotalV ┆ AssdYear ┆ MarketTota ┆ MarketValu ┆ ApprTotalV ┆ ApprYear ┆ TaxableYe │\n",
       "│ ---        ┆ alue       ┆ ---      ┆ lValue     ┆ eYear      ┆ alue       ┆ ---      ┆ ar        │\n",
       "│ i64        ┆ ---        ┆ i64      ┆ ---        ┆ ---        ┆ ---        ┆ i64      ┆ ---       │\n",
       "│            ┆ i64        ┆          ┆ i64        ┆ i64        ┆ i64        ┆          ┆ i64       │\n",
       "╞════════════╪════════════╪══════════╪════════════╪════════════╪════════════╪══════════╪═══════════╡\n",
       "│ 91847126   ┆ 0          ┆ 2022     ┆ 11488000   ┆ 2022       ┆ 0          ┆ null     ┆ null      │\n",
       "│ 91846931   ┆ 0          ┆ 2022     ┆ 9018000    ┆ 2022       ┆ 0          ┆ null     ┆ null      │\n",
       "│ 91846943   ┆ 0          ┆ 2022     ┆ 11073000   ┆ 2022       ┆ 0          ┆ null     ┆ null      │\n",
       "│ 91847071   ┆ 0          ┆ 2022     ┆ 7274000    ┆ 2022       ┆ 0          ┆ null     ┆ null      │\n",
       "│ 91846533   ┆ 0          ┆ 2022     ┆ 11421000   ┆ 2022       ┆ 0          ┆ null     ┆ null      │\n",
       "│ …          ┆ …          ┆ …        ┆ …          ┆ …          ┆ …          ┆ …        ┆ …         │\n",
       "│ 91949740   ┆ 0          ┆ 2023     ┆ 1991000    ┆ 2022       ┆ 0          ┆ null     ┆ null      │\n",
       "│ 91949743   ┆ 0          ┆ 2023     ┆ 2060000    ┆ 2022       ┆ 0          ┆ null     ┆ null      │\n",
       "│ 91951265   ┆ 0          ┆ 2023     ┆ 837000     ┆ 2022       ┆ 0          ┆ null     ┆ null      │\n",
       "│ 91951381   ┆ 0          ┆ 2023     ┆ 850000     ┆ 2022       ┆ 0          ┆ null     ┆ null      │\n",
       "│ 91951267   ┆ 0          ┆ 2023     ┆ 4713000    ┆ 2022       ┆ 0          ┆ null     ┆ null      │\n",
       "└────────────┴────────────┴──────────┴────────────┴────────────┴────────────┴──────────┴───────────┘"
      ]
     },
     "execution_count": 77,
     "metadata": {},
     "output_type": "execute_result"
    }
   ],
   "source": [
    "valhist.filter(\n",
    "    ((pl.col(\"AssdTotalValue\") == 0) & ((pl.col(\"MarketValueYear\").is_not_null()) | (pl.col(\"ApprYear\").is_not_null())))\n",
    ")"
   ]
  },
  {
   "cell_type": "code",
   "execution_count": 71,
   "metadata": {},
   "outputs": [
    {
     "data": {
      "text/plain": [
       "(2871980, 8)"
      ]
     },
     "execution_count": 71,
     "metadata": {},
     "output_type": "execute_result"
    }
   ],
   "source": [
    "valhist.shape"
   ]
  },
  {
   "cell_type": "code",
   "execution_count": 6,
   "metadata": {},
   "outputs": [
    {
     "data": {
      "text/plain": [
       "OrderedDict([('PropertyID', Int64), ('TaxYear', Int64), ('TaxAmt', Int64)])"
      ]
     },
     "execution_count": 6,
     "metadata": {},
     "output_type": "execute_result"
    }
   ],
   "source": [
    "taxhist.schema"
   ]
  },
  {
   "cell_type": "code",
   "execution_count": 78,
   "metadata": {},
   "outputs": [
    {
     "ename": "FileNotFoundError",
     "evalue": "No such file or directory (os error 2): ...s/claireboyd/internships/mansueto/fa-etl/dev-data/raw_small/parquet/ValHist36061.parquet",
     "output_type": "error",
     "traceback": [
      "\u001b[0;31m---------------------------------------------------------------------------\u001b[0m",
      "\u001b[0;31mFileNotFoundError\u001b[0m                         Traceback (most recent call last)",
      "Cell \u001b[0;32mIn[78], line 1\u001b[0m\n\u001b[0;32m----> 1\u001b[0m fa_etl_dev\u001b[39m.\u001b[39;49mjoin(input_dir\u001b[39m=\u001b[39;49m\u001b[39m\"\u001b[39;49m\u001b[39m/Users/claireboyd/internships/mansueto/fa-etl/dev-data/raw_small\u001b[39;49m\u001b[39m\"\u001b[39;49m,\n\u001b[1;32m      2\u001b[0m                 valhist_filename\u001b[39m=\u001b[39;49m\u001b[39m\"\u001b[39;49m\u001b[39mValHist36061.parquet\u001b[39;49m\u001b[39m\"\u001b[39;49m,\n\u001b[1;32m      3\u001b[0m                 prop_filename\u001b[39m=\u001b[39;49m\u001b[39m\"\u001b[39;49m\u001b[39mProp36061.parquet\u001b[39;49m\u001b[39m\"\u001b[39;49m,\n\u001b[1;32m      4\u001b[0m                 ranked_deed_filename\u001b[39m=\u001b[39;49m\u001b[39m\"\u001b[39;49m\u001b[39mranked_Deed36061.parquet\u001b[39;49m\u001b[39m\"\u001b[39;49m)\n",
      "File \u001b[0;32m~/internships/mansueto/fa-etl/fa-etl-dev.py:274\u001b[0m, in \u001b[0;36mjoin\u001b[0;34m(input_dir, valhist_filename, prop_filename, ranked_deed_filename)\u001b[0m\n\u001b[1;32m    272\u001b[0m \u001b[39m#read in parquet as lazy Dataframes\u001b[39;00m\n\u001b[1;32m    273\u001b[0m logging\u001b[39m.\u001b[39minfo(\u001b[39mf\u001b[39m\u001b[39m\"\u001b[39m\u001b[39mReading in parquet files to merge...\u001b[39m\u001b[39m\"\u001b[39m)\n\u001b[0;32m--> 274\u001b[0m valhist \u001b[39m=\u001b[39m pl\u001b[39m.\u001b[39;49mscan_parquet(Path(input_dir\u001b[39m+\u001b[39;49m\u001b[39m\"\u001b[39;49m\u001b[39m/parquet/\u001b[39;49m\u001b[39m\"\u001b[39;49m\u001b[39m+\u001b[39;49mvalhist_filename))\n\u001b[1;32m    275\u001b[0m prop \u001b[39m=\u001b[39m pl\u001b[39m.\u001b[39mscan_parquet(Path(input_dir\u001b[39m+\u001b[39m\u001b[39m\"\u001b[39m\u001b[39m/parquet/\u001b[39m\u001b[39m\"\u001b[39m\u001b[39m+\u001b[39mprop_filename))\n\u001b[1;32m    276\u001b[0m ranked_deed \u001b[39m=\u001b[39m pl\u001b[39m.\u001b[39mscan_parquet(Path(input_dir\u001b[39m+\u001b[39m\u001b[39m\"\u001b[39m\u001b[39m/parquet/\u001b[39m\u001b[39m\"\u001b[39m\u001b[39m+\u001b[39mranked_deed_filename))\n",
      "File \u001b[0;32m~/anaconda3/lib/python3.11/site-packages/polars/utils/deprecation.py:136\u001b[0m, in \u001b[0;36mdeprecate_renamed_parameter.<locals>.decorate.<locals>.wrapper\u001b[0;34m(*args, **kwargs)\u001b[0m\n\u001b[1;32m    131\u001b[0m \u001b[39m@wraps\u001b[39m(function)\n\u001b[1;32m    132\u001b[0m \u001b[39mdef\u001b[39;00m \u001b[39mwrapper\u001b[39m(\u001b[39m*\u001b[39margs: P\u001b[39m.\u001b[39margs, \u001b[39m*\u001b[39m\u001b[39m*\u001b[39mkwargs: P\u001b[39m.\u001b[39mkwargs) \u001b[39m-\u001b[39m\u001b[39m>\u001b[39m T:\n\u001b[1;32m    133\u001b[0m     _rename_keyword_argument(\n\u001b[1;32m    134\u001b[0m         old_name, new_name, kwargs, function\u001b[39m.\u001b[39m\u001b[39m__name__\u001b[39m, version\n\u001b[1;32m    135\u001b[0m     )\n\u001b[0;32m--> 136\u001b[0m     \u001b[39mreturn\u001b[39;00m function(\u001b[39m*\u001b[39;49margs, \u001b[39m*\u001b[39;49m\u001b[39m*\u001b[39;49mkwargs)\n",
      "File \u001b[0;32m~/anaconda3/lib/python3.11/site-packages/polars/utils/deprecation.py:136\u001b[0m, in \u001b[0;36mdeprecate_renamed_parameter.<locals>.decorate.<locals>.wrapper\u001b[0;34m(*args, **kwargs)\u001b[0m\n\u001b[1;32m    131\u001b[0m \u001b[39m@wraps\u001b[39m(function)\n\u001b[1;32m    132\u001b[0m \u001b[39mdef\u001b[39;00m \u001b[39mwrapper\u001b[39m(\u001b[39m*\u001b[39margs: P\u001b[39m.\u001b[39margs, \u001b[39m*\u001b[39m\u001b[39m*\u001b[39mkwargs: P\u001b[39m.\u001b[39mkwargs) \u001b[39m-\u001b[39m\u001b[39m>\u001b[39m T:\n\u001b[1;32m    133\u001b[0m     _rename_keyword_argument(\n\u001b[1;32m    134\u001b[0m         old_name, new_name, kwargs, function\u001b[39m.\u001b[39m\u001b[39m__name__\u001b[39m, version\n\u001b[1;32m    135\u001b[0m     )\n\u001b[0;32m--> 136\u001b[0m     \u001b[39mreturn\u001b[39;00m function(\u001b[39m*\u001b[39;49margs, \u001b[39m*\u001b[39;49m\u001b[39m*\u001b[39;49mkwargs)\n",
      "File \u001b[0;32m~/anaconda3/lib/python3.11/site-packages/polars/io/parquet/functions.py:311\u001b[0m, in \u001b[0;36mscan_parquet\u001b[0;34m(source, n_rows, row_index_name, row_index_offset, parallel, use_statistics, hive_partitioning, rechunk, low_memory, cache, storage_options, retries)\u001b[0m\n\u001b[1;32m    308\u001b[0m \u001b[39melse\u001b[39;00m:\n\u001b[1;32m    309\u001b[0m     source \u001b[39m=\u001b[39m [normalize_filepath(source) \u001b[39mfor\u001b[39;00m source \u001b[39min\u001b[39;00m source]\n\u001b[0;32m--> 311\u001b[0m \u001b[39mreturn\u001b[39;00m pl\u001b[39m.\u001b[39;49mLazyFrame\u001b[39m.\u001b[39;49m_scan_parquet(\n\u001b[1;32m    312\u001b[0m     source,\n\u001b[1;32m    313\u001b[0m     n_rows\u001b[39m=\u001b[39;49mn_rows,\n\u001b[1;32m    314\u001b[0m     cache\u001b[39m=\u001b[39;49mcache,\n\u001b[1;32m    315\u001b[0m     parallel\u001b[39m=\u001b[39;49mparallel,\n\u001b[1;32m    316\u001b[0m     rechunk\u001b[39m=\u001b[39;49mrechunk,\n\u001b[1;32m    317\u001b[0m     row_index_name\u001b[39m=\u001b[39;49mrow_index_name,\n\u001b[1;32m    318\u001b[0m     row_index_offset\u001b[39m=\u001b[39;49mrow_index_offset,\n\u001b[1;32m    319\u001b[0m     storage_options\u001b[39m=\u001b[39;49mstorage_options,\n\u001b[1;32m    320\u001b[0m     low_memory\u001b[39m=\u001b[39;49mlow_memory,\n\u001b[1;32m    321\u001b[0m     use_statistics\u001b[39m=\u001b[39;49muse_statistics,\n\u001b[1;32m    322\u001b[0m     hive_partitioning\u001b[39m=\u001b[39;49mhive_partitioning,\n\u001b[1;32m    323\u001b[0m     retries\u001b[39m=\u001b[39;49mretries,\n\u001b[1;32m    324\u001b[0m )\n",
      "File \u001b[0;32m~/anaconda3/lib/python3.11/site-packages/polars/lazyframe/frame.py:450\u001b[0m, in \u001b[0;36mLazyFrame._scan_parquet\u001b[0;34m(cls, source, n_rows, cache, parallel, rechunk, row_index_name, row_index_offset, storage_options, low_memory, use_statistics, hive_partitioning, retries)\u001b[0m\n\u001b[1;32m    444\u001b[0m \u001b[39m# try fsspec scanner\u001b[39;00m\n\u001b[1;32m    445\u001b[0m \u001b[39mif\u001b[39;00m (\n\u001b[1;32m    446\u001b[0m     can_use_fsspec\n\u001b[1;32m    447\u001b[0m     \u001b[39mand\u001b[39;00m \u001b[39mnot\u001b[39;00m _is_local_file(source)  \u001b[39m# type: ignore[arg-type]\u001b[39;00m\n\u001b[1;32m    448\u001b[0m     \u001b[39mand\u001b[39;00m \u001b[39mnot\u001b[39;00m _is_supported_cloud(source)  \u001b[39m# type: ignore[arg-type]\u001b[39;00m\n\u001b[1;32m    449\u001b[0m ):\n\u001b[0;32m--> 450\u001b[0m     scan \u001b[39m=\u001b[39m _scan_parquet_fsspec(source, storage_options)  \u001b[39m# type: ignore[arg-type]\u001b[39;00m\n\u001b[1;32m    451\u001b[0m     \u001b[39mif\u001b[39;00m n_rows:\n\u001b[1;32m    452\u001b[0m         scan \u001b[39m=\u001b[39m scan\u001b[39m.\u001b[39mhead(n_rows)\n",
      "File \u001b[0;32m~/anaconda3/lib/python3.11/site-packages/polars/io/parquet/anonymous_scan.py:21\u001b[0m, in \u001b[0;36m_scan_parquet_fsspec\u001b[0;34m(source, storage_options)\u001b[0m\n\u001b[1;32m     18\u001b[0m func \u001b[39m=\u001b[39m partial(_scan_parquet_impl, source, storage_options\u001b[39m=\u001b[39mstorage_options)\n\u001b[1;32m     20\u001b[0m \u001b[39mwith\u001b[39;00m _prepare_file_arg(source, storage_options\u001b[39m=\u001b[39mstorage_options) \u001b[39mas\u001b[39;00m data:\n\u001b[0;32m---> 21\u001b[0m     schema \u001b[39m=\u001b[39m polars\u001b[39m.\u001b[39;49mio\u001b[39m.\u001b[39;49mparquet\u001b[39m.\u001b[39;49mread_parquet_schema(data)\n\u001b[1;32m     23\u001b[0m \u001b[39mreturn\u001b[39;00m pl\u001b[39m.\u001b[39mLazyFrame\u001b[39m.\u001b[39m_scan_python_function(schema, func)\n",
      "File \u001b[0;32m~/anaconda3/lib/python3.11/site-packages/polars/io/parquet/functions.py:213\u001b[0m, in \u001b[0;36mread_parquet_schema\u001b[0;34m(source)\u001b[0m\n\u001b[1;32m    210\u001b[0m \u001b[39mif\u001b[39;00m \u001b[39misinstance\u001b[39m(source, (\u001b[39mstr\u001b[39m, Path)):\n\u001b[1;32m    211\u001b[0m     source \u001b[39m=\u001b[39m normalize_filepath(source)\n\u001b[0;32m--> 213\u001b[0m \u001b[39mreturn\u001b[39;00m _read_parquet_schema(source)\n",
      "\u001b[0;31mFileNotFoundError\u001b[0m: No such file or directory (os error 2): ...s/claireboyd/internships/mansueto/fa-etl/dev-data/raw_small/parquet/ValHist36061.parquet"
     ]
    }
   ],
   "source": [
    "fa_etl_dev.join(input_dir=\"/Users/claireboyd/internships/mansueto/fa-etl/dev-data/raw_small\",\n",
    "                valhist_filename=\"ValHist36061.parquet\",\n",
    "                prop_filename=\"Prop36061.parquet\",\n",
    "                ranked_deed_filename=\"ranked_Deed36061.parquet\")"
   ]
  },
  {
   "cell_type": "code",
   "execution_count": 21,
   "metadata": {},
   "outputs": [],
   "source": [
    "merged = pl.read_parquet(\"/Users/claireboyd/internships/mansueto/fa-etl/dev-data/raw_small/parquet/merged.parquet\")"
   ]
  },
  {
   "cell_type": "code",
   "execution_count": 17,
   "metadata": {},
   "outputs": [
    {
     "data": {
      "text/plain": [
       "(2871980, 8)"
      ]
     },
     "execution_count": 17,
     "metadata": {},
     "output_type": "execute_result"
    }
   ],
   "source": [
    "valhist.shape\n",
    "\n",
    "# property file - propertyid is not null, data type issues"
   ]
  },
  {
   "cell_type": "code",
   "execution_count": 22,
   "metadata": {},
   "outputs": [
    {
     "data": {
      "text/plain": [
       "(2868382, 21)"
      ]
     },
     "execution_count": 22,
     "metadata": {},
     "output_type": "execute_result"
    }
   ],
   "source": [
    "merged.shape"
   ]
  },
  {
   "cell_type": "code",
   "execution_count": 14,
   "metadata": {},
   "outputs": [
    {
     "data": {
      "text/plain": [
       "(0, 8)"
      ]
     },
     "execution_count": 14,
     "metadata": {},
     "output_type": "execute_result"
    }
   ],
   "source": [
    "subset_df = valhist.filter(pl.col(\"PropertyID\") == 0)\n",
    "subset_df.shape"
   ]
  }
 ],
 "metadata": {
  "kernelspec": {
   "display_name": "Python 3",
   "language": "python",
   "name": "python3"
  },
  "language_info": {
   "codemirror_mode": {
    "name": "ipython",
    "version": 3
   },
   "file_extension": ".py",
   "mimetype": "text/x-python",
   "name": "python",
   "nbconvert_exporter": "python",
   "pygments_lexer": "ipython3",
   "version": "3.11.5"
  },
  "orig_nbformat": 4
 },
 "nbformat": 4,
 "nbformat_minor": 2
}
