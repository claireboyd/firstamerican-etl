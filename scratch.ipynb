{
 "cells": [
  {
   "cell_type": "code",
   "execution_count": 1,
   "metadata": {},
   "outputs": [],
   "source": [
    "#set up autoreload\n",
    "%load_ext autoreload\n",
    "%autoreload 2"
   ]
  },
  {
   "cell_type": "code",
   "execution_count": 2,
   "metadata": {},
   "outputs": [],
   "source": [
    "import polars as pl\n",
    "from pathlib import Path\n",
    "\n",
    "import importlib  \n",
    "fa_etl = importlib.import_module(\"fa-etl\")"
   ]
  },
  {
   "attachments": {},
   "cell_type": "markdown",
   "metadata": {},
   "source": [
    "initial data quality checks\n",
    "\n",
    "1. Check if all parcels in annual file exist in tax & val hist:\n",
    "    * 36061: yes\n",
    "    * 42101: not all (606/582083 of props in annual are not in tax hist, all in value hist)\n",
    "    * 48203: yes"
   ]
  },
  {
   "cell_type": "code",
   "execution_count": 3,
   "metadata": {},
   "outputs": [],
   "source": [
    "county = \"42101\"\n",
    "path_to_dir = \"/Users/claireboyd/internships/mansueto/firstamerican-etl/\""
   ]
  },
  {
   "cell_type": "code",
   "execution_count": 7,
   "metadata": {},
   "outputs": [],
   "source": [
    "taxhist = pl.read_parquet(path_to_dir+f\"dev/{county}/staging/TaxHist{county}.parquet\")\n",
    "valhist = pl.read_parquet(path_to_dir+f\"dev/{county}/staging/ValHist{county}.parquet\")\n",
    "annual = pl.read_parquet(path_to_dir+f\"dev/{county}/staging/Prop{county}.parquet\")\n",
    "sales = pl.read_parquet(path_to_dir+f\"dev/{county}/staging/ranked_Deed{county}.parquet\")\n",
    "\n",
    "annual = annual.with_columns([\n",
    "    pl.col(\"PropertyID\").is_in(taxhist['PropertyID']).alias(\"in_taxhist\"),\n",
    "    pl.col(\"PropertyID\").is_in(valhist['PropertyID']).alias(\"in_valhist\")\n",
    "    ])"
   ]
  },
  {
   "cell_type": "code",
   "execution_count": null,
   "metadata": {},
   "outputs": [],
   "source": [
    "annual[\"in_taxhist\"].value_counts()"
   ]
  },
  {
   "cell_type": "code",
   "execution_count": null,
   "metadata": {},
   "outputs": [],
   "source": [
    "annual[\"in_valhist\"].value_counts()"
   ]
  },
  {
   "cell_type": "code",
   "execution_count": null,
   "metadata": {},
   "outputs": [],
   "source": [
    "annual.filter([\n",
    "    pl.col(\"in_taxhist\") == False\n",
    "])\n",
    "    "
   ]
  },
  {
   "attachments": {},
   "cell_type": "markdown",
   "metadata": {},
   "source": [
    "data quality checks:\n",
    "* check for composition of valhist\n",
    "* why am i losing data when i merge valhist with prop? 2871980 to 2868382"
   ]
  },
  {
   "cell_type": "code",
   "execution_count": null,
   "metadata": {},
   "outputs": [],
   "source": [
    "valhist.filter(\n",
    "    ((pl.col(\"AssdTotalValue\") == 0) & ((pl.col(\"MarketValueYear\").is_not_null()) | (pl.col(\"ApprYear\").is_not_null())))\n",
    ")"
   ]
  },
  {
   "cell_type": "code",
   "execution_count": 5,
   "metadata": {},
   "outputs": [
    {
     "data": {
      "text/plain": [
       "(6337101, 8)"
      ]
     },
     "execution_count": 5,
     "metadata": {},
     "output_type": "execute_result"
    }
   ],
   "source": [
    "valhist.shape"
   ]
  },
  {
   "cell_type": "code",
   "execution_count": 8,
   "metadata": {},
   "outputs": [
    {
     "data": {
      "text/plain": [
       "OrderedDict([('PropertyID', Int64),\n",
       "             ('SaleAmt', Int64),\n",
       "             ('RecordingYear', Int64)])"
      ]
     },
     "execution_count": 8,
     "metadata": {},
     "output_type": "execute_result"
    }
   ],
   "source": [
    "sales.schema"
   ]
  },
  {
   "cell_type": "code",
   "execution_count": null,
   "metadata": {},
   "outputs": [],
   "source": [
    "taxhist.schema"
   ]
  },
  {
   "cell_type": "code",
   "execution_count": 9,
   "metadata": {},
   "outputs": [],
   "source": [
    "fa_etl.join(input_dir=\"/Users/claireboyd/internships/mansueto/firstamerican-etl/dev/36061\",\n",
    "                valhist_filename=\"ValHist36061.parquet\",\n",
    "                prop_filename=\"Prop36061.parquet\",\n",
    "                ranked_deed_filename=\"ranked_Deed36061.parquet\")"
   ]
  },
  {
   "cell_type": "code",
   "execution_count": 10,
   "metadata": {},
   "outputs": [],
   "source": [
    "merged = pl.read_parquet(\"/Users/claireboyd/internships/mansueto/firstamerican-etl/dev/36061/unified/merged.parquet\")"
   ]
  },
  {
   "cell_type": "code",
   "execution_count": 11,
   "metadata": {},
   "outputs": [
    {
     "data": {
      "text/plain": [
       "(2555855, 25)"
      ]
     },
     "execution_count": 11,
     "metadata": {},
     "output_type": "execute_result"
    }
   ],
   "source": [
    "merged.shape"
   ]
  },
  {
   "cell_type": "code",
   "execution_count": 12,
   "metadata": {},
   "outputs": [
    {
     "data": {
      "text/html": [
       "<div><style>\n",
       ".dataframe > thead > tr > th,\n",
       ".dataframe > tbody > tr > td {\n",
       "  text-align: right;\n",
       "  white-space: pre-wrap;\n",
       "}\n",
       "</style>\n",
       "<small>shape: (10, 25)</small><table border=\"1\" class=\"dataframe\"><thead><tr><th>PropertyID</th><th>AssdTotalValue</th><th>AssdYear</th><th>MarketTotalValue</th><th>MarketValueYear</th><th>ApprTotalValue</th><th>ApprYear</th><th>TaxableYear</th><th>PropertyClassID</th><th>FATimeStamp</th><th>SitusLatitude</th><th>SitusLongitude</th><th>SitusFullStreetAddress</th><th>SitusCity</th><th>SitusState</th><th>SitusZIP5</th><th>FIPS</th><th>SitusCensusTract</th><th>SitusCensusBlock</th><th>SitusGeoStatusCode</th><th>FIPS_SitusCensusTract</th><th>Year</th><th>Value</th><th>AssessmentUsed</th><th>SaleAmt</th></tr><tr><td>i64</td><td>i64</td><td>i64</td><td>i64</td><td>i64</td><td>i64</td><td>i64</td><td>i64</td><td>str</td><td>date</td><td>f64</td><td>f64</td><td>str</td><td>str</td><td>str</td><td>str</td><td>str</td><td>str</td><td>str</td><td>str</td><td>str</td><td>i64</td><td>i64</td><td>str</td><td>i64</td></tr></thead><tbody><tr><td>91849011</td><td>109355</td><td>2018</td><td>243012</td><td>2018</td><td>0</td><td>null</td><td>null</td><td>&quot;R&quot;</td><td>2024-02-07</td><td>40.744385</td><td>-73.984104</td><td>&quot;39 E 29TH ST A…</td><td>&quot;NEW YORK&quot;</td><td>&quot;NY&quot;</td><td>&quot;10016&quot;</td><td>&quot;36061&quot;</td><td>&quot;007400&quot;</td><td>&quot;2001&quot;</td><td>&quot;B&quot;</td><td>&quot;36061_7400&quot;</td><td>2018</td><td>109355</td><td>&quot;Assd&quot;</td><td>null</td></tr><tr><td>91849025</td><td>232401</td><td>2018</td><td>516447</td><td>2018</td><td>0</td><td>null</td><td>null</td><td>&quot;R&quot;</td><td>2024-02-07</td><td>40.744385</td><td>-73.984104</td><td>&quot;39 E 29TH ST A…</td><td>&quot;NEW YORK&quot;</td><td>&quot;NY&quot;</td><td>&quot;10016&quot;</td><td>&quot;36061&quot;</td><td>&quot;007400&quot;</td><td>&quot;2001&quot;</td><td>&quot;B&quot;</td><td>&quot;36061_7400&quot;</td><td>2018</td><td>232401</td><td>&quot;Assd&quot;</td><td>null</td></tr><tr><td>91848291</td><td>41919</td><td>2018</td><td>93153</td><td>2018</td><td>0</td><td>null</td><td>null</td><td>&quot;R&quot;</td><td>2024-02-07</td><td>40.745345</td><td>-73.999298</td><td>&quot;312 W 23RD ST …</td><td>&quot;NEW YORK&quot;</td><td>&quot;NY&quot;</td><td>&quot;10011&quot;</td><td>&quot;36061&quot;</td><td>&quot;009300&quot;</td><td>&quot;2001&quot;</td><td>&quot;B&quot;</td><td>&quot;36061_9300&quot;</td><td>2018</td><td>41919</td><td>&quot;Assd&quot;</td><td>null</td></tr><tr><td>91848380</td><td>41919</td><td>2018</td><td>93153</td><td>2018</td><td>0</td><td>null</td><td>null</td><td>&quot;R&quot;</td><td>2024-02-07</td><td>40.745345</td><td>-73.999298</td><td>&quot;312 W 23RD ST …</td><td>&quot;NEW YORK&quot;</td><td>&quot;NY&quot;</td><td>&quot;10011&quot;</td><td>&quot;36061&quot;</td><td>&quot;009300&quot;</td><td>&quot;2001&quot;</td><td>&quot;B&quot;</td><td>&quot;36061_9300&quot;</td><td>2018</td><td>41919</td><td>&quot;Assd&quot;</td><td>null</td></tr><tr><td>91848104</td><td>108484</td><td>2018</td><td>241076</td><td>2018</td><td>0</td><td>null</td><td>null</td><td>&quot;R&quot;</td><td>2024-02-07</td><td>40.750965</td><td>-73.982198</td><td>&quot;425 5TH AVE AP…</td><td>&quot;NEW YORK&quot;</td><td>&quot;NY&quot;</td><td>&quot;10016&quot;</td><td>&quot;36061&quot;</td><td>&quot;008200&quot;</td><td>&quot;2004&quot;</td><td>&quot;B&quot;</td><td>&quot;36061_8200&quot;</td><td>2018</td><td>108484</td><td>&quot;Assd&quot;</td><td>null</td></tr><tr><td>91847856</td><td>73548</td><td>2018</td><td>163440</td><td>2018</td><td>0</td><td>null</td><td>null</td><td>&quot;R&quot;</td><td>2024-02-07</td><td>40.750965</td><td>-73.982198</td><td>&quot;425 5TH AVE AP…</td><td>&quot;NEW YORK&quot;</td><td>&quot;NY&quot;</td><td>&quot;10016&quot;</td><td>&quot;36061&quot;</td><td>&quot;008200&quot;</td><td>&quot;2004&quot;</td><td>&quot;B&quot;</td><td>&quot;36061_8200&quot;</td><td>2018</td><td>73548</td><td>&quot;Assd&quot;</td><td>null</td></tr><tr><td>91847850</td><td>1093365</td><td>2018</td><td>3625000</td><td>2018</td><td>0</td><td>null</td><td>null</td><td>&quot;R&quot;</td><td>2024-02-07</td><td>40.739371</td><td>-73.989025</td><td>&quot;24 E 21ST ST #…</td><td>&quot;NEW YORK&quot;</td><td>&quot;NY&quot;</td><td>&quot;10010&quot;</td><td>&quot;36061&quot;</td><td>&quot;005200&quot;</td><td>&quot;1000&quot;</td><td>&quot;B&quot;</td><td>&quot;36061_5200&quot;</td><td>2018</td><td>1093365</td><td>&quot;Assd&quot;</td><td>null</td></tr><tr><td>91847993</td><td>254799</td><td>2018</td><td>566219</td><td>2018</td><td>0</td><td>null</td><td>null</td><td>&quot;R&quot;</td><td>2024-02-07</td><td>40.729882</td><td>-74.007313</td><td>&quot;421 HUDSON ST …</td><td>&quot;NEW YORK&quot;</td><td>&quot;NY&quot;</td><td>&quot;10014&quot;</td><td>&quot;36061&quot;</td><td>&quot;006900&quot;</td><td>&quot;2005&quot;</td><td>&quot;B&quot;</td><td>&quot;36061_6900&quot;</td><td>2018</td><td>254799</td><td>&quot;Assd&quot;</td><td>null</td></tr><tr><td>91847796</td><td>297186</td><td>2018</td><td>660413</td><td>2018</td><td>0</td><td>null</td><td>null</td><td>&quot;R&quot;</td><td>2024-02-07</td><td>40.739961</td><td>-73.990361</td><td>&quot;141 5TH AVE AP…</td><td>&quot;NEW YORK&quot;</td><td>&quot;NY&quot;</td><td>&quot;10010&quot;</td><td>&quot;36061&quot;</td><td>&quot;005200&quot;</td><td>&quot;2000&quot;</td><td>&quot;B&quot;</td><td>&quot;36061_5200&quot;</td><td>2018</td><td>297186</td><td>&quot;Assd&quot;</td><td>null</td></tr><tr><td>91847870</td><td>117677</td><td>2018</td><td>261504</td><td>2018</td><td>0</td><td>null</td><td>null</td><td>&quot;R&quot;</td><td>2024-02-07</td><td>40.750965</td><td>-73.982198</td><td>&quot;425 5TH AVE AP…</td><td>&quot;NEW YORK&quot;</td><td>&quot;NY&quot;</td><td>&quot;10016&quot;</td><td>&quot;36061&quot;</td><td>&quot;008200&quot;</td><td>&quot;2004&quot;</td><td>&quot;B&quot;</td><td>&quot;36061_8200&quot;</td><td>2018</td><td>117677</td><td>&quot;Assd&quot;</td><td>1580000</td></tr></tbody></table></div>"
      ],
      "text/plain": [
       "shape: (10, 25)\n",
       "┌────────────┬──────────────┬──────────┬──────────────┬───┬──────┬─────────┬─────────────┬─────────┐\n",
       "│ PropertyID ┆ AssdTotalVal ┆ AssdYear ┆ MarketTotalV ┆ … ┆ Year ┆ Value   ┆ AssessmentU ┆ SaleAmt │\n",
       "│ ---        ┆ ue           ┆ ---      ┆ alue         ┆   ┆ ---  ┆ ---     ┆ sed         ┆ ---     │\n",
       "│ i64        ┆ ---          ┆ i64      ┆ ---          ┆   ┆ i64  ┆ i64     ┆ ---         ┆ i64     │\n",
       "│            ┆ i64          ┆          ┆ i64          ┆   ┆      ┆         ┆ str         ┆         │\n",
       "╞════════════╪══════════════╪══════════╪══════════════╪═══╪══════╪═════════╪═════════════╪═════════╡\n",
       "│ 91849011   ┆ 109355       ┆ 2018     ┆ 243012       ┆ … ┆ 2018 ┆ 109355  ┆ Assd        ┆ null    │\n",
       "│ 91849025   ┆ 232401       ┆ 2018     ┆ 516447       ┆ … ┆ 2018 ┆ 232401  ┆ Assd        ┆ null    │\n",
       "│ 91848291   ┆ 41919        ┆ 2018     ┆ 93153        ┆ … ┆ 2018 ┆ 41919   ┆ Assd        ┆ null    │\n",
       "│ 91848380   ┆ 41919        ┆ 2018     ┆ 93153        ┆ … ┆ 2018 ┆ 41919   ┆ Assd        ┆ null    │\n",
       "│ …          ┆ …            ┆ …        ┆ …            ┆ … ┆ …    ┆ …       ┆ …           ┆ …       │\n",
       "│ 91847850   ┆ 1093365      ┆ 2018     ┆ 3625000      ┆ … ┆ 2018 ┆ 1093365 ┆ Assd        ┆ null    │\n",
       "│ 91847993   ┆ 254799       ┆ 2018     ┆ 566219       ┆ … ┆ 2018 ┆ 254799  ┆ Assd        ┆ null    │\n",
       "│ 91847796   ┆ 297186       ┆ 2018     ┆ 660413       ┆ … ┆ 2018 ┆ 297186  ┆ Assd        ┆ null    │\n",
       "│ 91847870   ┆ 117677       ┆ 2018     ┆ 261504       ┆ … ┆ 2018 ┆ 117677  ┆ Assd        ┆ 1580000 │\n",
       "└────────────┴──────────────┴──────────┴──────────────┴───┴──────┴─────────┴─────────────┴─────────┘"
      ]
     },
     "execution_count": 12,
     "metadata": {},
     "output_type": "execute_result"
    }
   ],
   "source": [
    "merged.head(10)"
   ]
  },
  {
   "cell_type": "code",
   "execution_count": 13,
   "metadata": {},
   "outputs": [
    {
     "data": {
      "text/html": [
       "<div><style>\n",
       ".dataframe > thead > tr > th,\n",
       ".dataframe > tbody > tr > td {\n",
       "  text-align: right;\n",
       "  white-space: pre-wrap;\n",
       "}\n",
       "</style>\n",
       "<small>shape: (100_728, 25)</small><table border=\"1\" class=\"dataframe\"><thead><tr><th>PropertyID</th><th>AssdTotalValue</th><th>AssdYear</th><th>MarketTotalValue</th><th>MarketValueYear</th><th>ApprTotalValue</th><th>ApprYear</th><th>TaxableYear</th><th>PropertyClassID</th><th>FATimeStamp</th><th>SitusLatitude</th><th>SitusLongitude</th><th>SitusFullStreetAddress</th><th>SitusCity</th><th>SitusState</th><th>SitusZIP5</th><th>FIPS</th><th>SitusCensusTract</th><th>SitusCensusBlock</th><th>SitusGeoStatusCode</th><th>FIPS_SitusCensusTract</th><th>Year</th><th>Value</th><th>AssessmentUsed</th><th>SaleAmt</th></tr><tr><td>i64</td><td>i64</td><td>i64</td><td>i64</td><td>i64</td><td>i64</td><td>i64</td><td>i64</td><td>str</td><td>date</td><td>f64</td><td>f64</td><td>str</td><td>str</td><td>str</td><td>str</td><td>str</td><td>str</td><td>str</td><td>str</td><td>str</td><td>i64</td><td>i64</td><td>str</td><td>i64</td></tr></thead><tbody><tr><td>91847870</td><td>117677</td><td>2018</td><td>261504</td><td>2018</td><td>0</td><td>null</td><td>null</td><td>&quot;R&quot;</td><td>2024-02-07</td><td>40.750965</td><td>-73.982198</td><td>&quot;425 5TH AVE AP…</td><td>&quot;NEW YORK&quot;</td><td>&quot;NY&quot;</td><td>&quot;10016&quot;</td><td>&quot;36061&quot;</td><td>&quot;008200&quot;</td><td>&quot;2004&quot;</td><td>&quot;B&quot;</td><td>&quot;36061_8200&quot;</td><td>2018</td><td>117677</td><td>&quot;Assd&quot;</td><td>1580000</td></tr><tr><td>91849008</td><td>247162</td><td>2018</td><td>1462000</td><td>2018</td><td>0</td><td>null</td><td>null</td><td>&quot;R&quot;</td><td>2024-02-07</td><td>40.750447</td><td>-73.997723</td><td>&quot;362 W 30TH ST&quot;</td><td>&quot;NEW YORK&quot;</td><td>&quot;NY&quot;</td><td>&quot;10001&quot;</td><td>&quot;36061&quot;</td><td>&quot;009700&quot;</td><td>&quot;4000&quot;</td><td>&quot;B&quot;</td><td>&quot;36061_9700&quot;</td><td>2018</td><td>247162</td><td>&quot;Assd&quot;</td><td>4400000</td></tr><tr><td>91848046</td><td>71155</td><td>2018</td><td>158123</td><td>2018</td><td>0</td><td>null</td><td>null</td><td>&quot;R&quot;</td><td>2024-02-23</td><td>40.738643</td><td>-73.987954</td><td>&quot;254 PARK AVE S…</td><td>&quot;NEW YORK&quot;</td><td>&quot;NY&quot;</td><td>&quot;10010&quot;</td><td>&quot;36061&quot;</td><td>&quot;005200&quot;</td><td>&quot;1000&quot;</td><td>&quot;B&quot;</td><td>&quot;36061_5200&quot;</td><td>2018</td><td>71155</td><td>&quot;Assd&quot;</td><td>712775</td></tr><tr><td>91846549</td><td>149310</td><td>2018</td><td>331800</td><td>2018</td><td>0</td><td>null</td><td>null</td><td>&quot;R&quot;</td><td>2024-02-07</td><td>40.729262</td><td>-74.004785</td><td>&quot;63 DOWNING ST …</td><td>&quot;NEW YORK&quot;</td><td>&quot;NY&quot;</td><td>&quot;10014&quot;</td><td>&quot;36061&quot;</td><td>&quot;006700&quot;</td><td>&quot;2002&quot;</td><td>&quot;B&quot;</td><td>&quot;36061_6700&quot;</td><td>2018</td><td>149310</td><td>&quot;Assd&quot;</td><td>2475000</td></tr><tr><td>91847537</td><td>128574</td><td>2018</td><td>285721</td><td>2018</td><td>0</td><td>null</td><td>null</td><td>&quot;R&quot;</td><td>2024-02-07</td><td>40.73889</td><td>-73.987904</td><td>&quot;260 PARK AVE S…</td><td>&quot;NEW YORK&quot;</td><td>&quot;NY&quot;</td><td>&quot;10010&quot;</td><td>&quot;36061&quot;</td><td>&quot;005200&quot;</td><td>&quot;1000&quot;</td><td>&quot;B&quot;</td><td>&quot;36061_5200&quot;</td><td>2018</td><td>128574</td><td>&quot;Assd&quot;</td><td>1625000</td></tr><tr><td>91848333</td><td>356895</td><td>2018</td><td>793100</td><td>2018</td><td>0</td><td>null</td><td>null</td><td>&quot;R&quot;</td><td>2024-02-07</td><td>40.726433</td><td>-73.99315</td><td>&quot;40 BOND ST APT…</td><td>&quot;NEW YORK&quot;</td><td>&quot;NY&quot;</td><td>&quot;10012&quot;</td><td>&quot;36061&quot;</td><td>&quot;005502&quot;</td><td>&quot;1002&quot;</td><td>&quot;B&quot;</td><td>&quot;36061_5502&quot;</td><td>2018</td><td>356895</td><td>&quot;Assd&quot;</td><td>7400000</td></tr><tr><td>91846649</td><td>219589</td><td>2018</td><td>487975</td><td>2018</td><td>0</td><td>null</td><td>null</td><td>&quot;R&quot;</td><td>2024-02-07</td><td>40.7408</td><td>-73.9989</td><td>&quot;22-26 W 15TH S…</td><td>&quot;NEW YORK&quot;</td><td>&quot;NY&quot;</td><td>&quot;10011&quot;</td><td>&quot;36061&quot;</td><td>&quot;008100&quot;</td><td>&quot;2000&quot;</td><td>&quot;5&quot;</td><td>&quot;36061_8100&quot;</td><td>2018</td><td>219589</td><td>&quot;Assd&quot;</td><td>3100000</td></tr><tr><td>91847215</td><td>299300</td><td>2018</td><td>665110</td><td>2018</td><td>0</td><td>null</td><td>null</td><td>&quot;R&quot;</td><td>2024-02-23</td><td>40.7408</td><td>-73.9989</td><td>&quot;12-14 W 18TH S…</td><td>&quot;NEW YORK&quot;</td><td>&quot;NY&quot;</td><td>&quot;10011&quot;</td><td>&quot;36061&quot;</td><td>&quot;008100&quot;</td><td>&quot;2000&quot;</td><td>&quot;5&quot;</td><td>&quot;36061_8100&quot;</td><td>2018</td><td>299300</td><td>&quot;Assd&quot;</td><td>2825000</td></tr><tr><td>91846134</td><td>718067</td><td>2022</td><td>1595704</td><td>2022</td><td>0</td><td>null</td><td>null</td><td>&quot;R&quot;</td><td>2024-02-07</td><td>40.740314</td><td>-73.988185</td><td>&quot;23 E 22ND ST #…</td><td>&quot;NEW YORK&quot;</td><td>&quot;NY&quot;</td><td>&quot;10010&quot;</td><td>&quot;36061&quot;</td><td>&quot;005600&quot;</td><td>&quot;2003&quot;</td><td>&quot;B&quot;</td><td>&quot;36061_5600&quot;</td><td>2022</td><td>718067</td><td>&quot;Assd&quot;</td><td>12500000</td></tr><tr><td>91847289</td><td>143322</td><td>2018</td><td>318493</td><td>2018</td><td>0</td><td>null</td><td>null</td><td>&quot;R&quot;</td><td>2024-02-07</td><td>40.726339</td><td>-73.994105</td><td>&quot;19 BOND ST APT…</td><td>&quot;NEW YORK&quot;</td><td>&quot;NY&quot;</td><td>&quot;10012&quot;</td><td>&quot;36061&quot;</td><td>&quot;005502&quot;</td><td>&quot;1003&quot;</td><td>&quot;B&quot;</td><td>&quot;36061_5502&quot;</td><td>2018</td><td>143322</td><td>&quot;Assd&quot;</td><td>2840000</td></tr><tr><td>91848235</td><td>98891</td><td>2018</td><td>219758</td><td>2018</td><td>0</td><td>null</td><td>null</td><td>&quot;R&quot;</td><td>2024-02-07</td><td>40.738643</td><td>-73.987954</td><td>&quot;254 PARK AVE S…</td><td>&quot;NEW YORK&quot;</td><td>&quot;NY&quot;</td><td>&quot;10010&quot;</td><td>&quot;36061&quot;</td><td>&quot;005200&quot;</td><td>&quot;1000&quot;</td><td>&quot;B&quot;</td><td>&quot;36061_5200&quot;</td><td>2018</td><td>98891</td><td>&quot;Assd&quot;</td><td>840000</td></tr><tr><td>91847234</td><td>97929</td><td>2018</td><td>217621</td><td>2018</td><td>0</td><td>null</td><td>null</td><td>&quot;R&quot;</td><td>2024-02-07</td><td>40.7257</td><td>-73.9982</td><td>&quot;79 BOND ST # 2…</td><td>&quot;NEW YORK&quot;</td><td>&quot;NY&quot;</td><td>&quot;10012&quot;</td><td>&quot;36061&quot;</td><td>&quot;004900&quot;</td><td>&quot;1002&quot;</td><td>&quot;5&quot;</td><td>&quot;36061_4900&quot;</td><td>2018</td><td>97929</td><td>&quot;Assd&quot;</td><td>2000000</td></tr><tr><td>&hellip;</td><td>&hellip;</td><td>&hellip;</td><td>&hellip;</td><td>&hellip;</td><td>&hellip;</td><td>&hellip;</td><td>&hellip;</td><td>&hellip;</td><td>&hellip;</td><td>&hellip;</td><td>&hellip;</td><td>&hellip;</td><td>&hellip;</td><td>&hellip;</td><td>&hellip;</td><td>&hellip;</td><td>&hellip;</td><td>&hellip;</td><td>&hellip;</td><td>&hellip;</td><td>&hellip;</td><td>&hellip;</td><td>&hellip;</td><td>&hellip;</td></tr><tr><td>91951526</td><td>43461</td><td>2020</td><td>96579</td><td>2020</td><td>0</td><td>null</td><td>null</td><td>&quot;R&quot;</td><td>2024-02-07</td><td>40.863862</td><td>-73.923071</td><td>&quot;571 ACADEMY ST…</td><td>&quot;NEW YORK&quot;</td><td>&quot;NY&quot;</td><td>&quot;10034&quot;</td><td>&quot;36061&quot;</td><td>&quot;029100&quot;</td><td>&quot;7000&quot;</td><td>&quot;B&quot;</td><td>&quot;36061_29100&quot;</td><td>2020</td><td>43461</td><td>&quot;Assd&quot;</td><td>280000</td></tr><tr><td>91950328</td><td>791550</td><td>2020</td><td>1759000</td><td>2020</td><td>0</td><td>null</td><td>null</td><td>&quot;R&quot;</td><td>2024-02-07</td><td>40.8496</td><td>-73.9357</td><td>&quot;289-291 AUDUBO…</td><td>&quot;NEW YORK&quot;</td><td>&quot;NY&quot;</td><td>&quot;10033&quot;</td><td>&quot;36061&quot;</td><td>&quot;027100&quot;</td><td>&quot;3005&quot;</td><td>&quot;5&quot;</td><td>&quot;36061_27100&quot;</td><td>2020</td><td>791550</td><td>&quot;Assd&quot;</td><td>12000000</td></tr><tr><td>91951497</td><td>388800</td><td>2023</td><td>864000</td><td>2023</td><td>0</td><td>null</td><td>null</td><td>&quot;R&quot;</td><td>2024-02-07</td><td>40.86383</td><td>-73.924265</td><td>&quot;121 SHERMAN AV…</td><td>&quot;NEW YORK&quot;</td><td>&quot;NY&quot;</td><td>&quot;10034&quot;</td><td>&quot;36061&quot;</td><td>&quot;029100&quot;</td><td>&quot;5000&quot;</td><td>&quot;B&quot;</td><td>&quot;36061_29100&quot;</td><td>2023</td><td>388800</td><td>&quot;Assd&quot;</td><td>2613000</td></tr><tr><td>91951494</td><td>423000</td><td>2023</td><td>940000</td><td>2023</td><td>0</td><td>null</td><td>null</td><td>&quot;R&quot;</td><td>2024-02-07</td><td>40.863649</td><td>-73.924753</td><td>&quot;109 SHERMAN AV…</td><td>&quot;NEW YORK&quot;</td><td>&quot;NY&quot;</td><td>&quot;10034&quot;</td><td>&quot;36061&quot;</td><td>&quot;029100&quot;</td><td>&quot;5000&quot;</td><td>&quot;B&quot;</td><td>&quot;36061_29100&quot;</td><td>2023</td><td>423000</td><td>&quot;Assd&quot;</td><td>2321000</td></tr><tr><td>91951499</td><td>376200</td><td>2023</td><td>836000</td><td>2023</td><td>0</td><td>null</td><td>null</td><td>&quot;R&quot;</td><td>2024-02-07</td><td>40.863951</td><td>-73.923939</td><td>&quot;129 SHERMAN AV…</td><td>&quot;NEW YORK&quot;</td><td>&quot;NY&quot;</td><td>&quot;10034&quot;</td><td>&quot;36061&quot;</td><td>&quot;029100&quot;</td><td>&quot;5000&quot;</td><td>&quot;B&quot;</td><td>&quot;36061_29100&quot;</td><td>2023</td><td>376200</td><td>&quot;Assd&quot;</td><td>2566000</td></tr><tr><td>91951505</td><td>418950</td><td>2023</td><td>931000</td><td>2023</td><td>0</td><td>null</td><td>null</td><td>&quot;R&quot;</td><td>2024-02-07</td><td>40.863437</td><td>-73.924012</td><td>&quot;34 POST AVE&quot;</td><td>&quot;NEW YORK&quot;</td><td>&quot;NY&quot;</td><td>&quot;10034&quot;</td><td>&quot;36061&quot;</td><td>&quot;029100&quot;</td><td>&quot;5000&quot;</td><td>&quot;B&quot;</td><td>&quot;36061_29100&quot;</td><td>2023</td><td>418950</td><td>&quot;Assd&quot;</td><td>1942000</td></tr><tr><td>91951508</td><td>418950</td><td>2023</td><td>931000</td><td>2023</td><td>0</td><td>null</td><td>null</td><td>&quot;R&quot;</td><td>2024-02-07</td><td>40.863255</td><td>-73.924501</td><td>&quot;22 POST AVE&quot;</td><td>&quot;NEW YORK&quot;</td><td>&quot;NY&quot;</td><td>&quot;10034&quot;</td><td>&quot;36061&quot;</td><td>&quot;029100&quot;</td><td>&quot;5000&quot;</td><td>&quot;B&quot;</td><td>&quot;36061_29100&quot;</td><td>2023</td><td>418950</td><td>&quot;Assd&quot;</td><td>2795000</td></tr><tr><td>91950049</td><td>88208</td><td>2023</td><td>207909</td><td>2023</td><td>0</td><td>null</td><td>null</td><td>&quot;R&quot;</td><td>2024-02-07</td><td>40.778142</td><td>-73.948953</td><td>&quot;360 E 88TH ST …</td><td>&quot;NEW YORK&quot;</td><td>&quot;NY&quot;</td><td>&quot;10128&quot;</td><td>&quot;36061&quot;</td><td>&quot;014602&quot;</td><td>&quot;5000&quot;</td><td>&quot;B&quot;</td><td>&quot;36061_14602&quot;</td><td>2023</td><td>88208</td><td>&quot;Assd&quot;</td><td>580000</td></tr><tr><td>91950055</td><td>90672</td><td>2023</td><td>213719</td><td>2023</td><td>0</td><td>null</td><td>null</td><td>&quot;R&quot;</td><td>2024-02-07</td><td>40.778142</td><td>-73.948953</td><td>&quot;360 E 88TH ST …</td><td>&quot;NEW YORK&quot;</td><td>&quot;NY&quot;</td><td>&quot;10128&quot;</td><td>&quot;36061&quot;</td><td>&quot;014602&quot;</td><td>&quot;5000&quot;</td><td>&quot;B&quot;</td><td>&quot;36061_14602&quot;</td><td>2023</td><td>90672</td><td>&quot;Assd&quot;</td><td>570000</td></tr><tr><td>91949993</td><td>30010</td><td>2023</td><td>67985</td><td>2023</td><td>0</td><td>null</td><td>null</td><td>&quot;R&quot;</td><td>2024-02-07</td><td>40.835154</td><td>-73.947532</td><td>&quot;779 RIVERSIDE …</td><td>&quot;NEW YORK&quot;</td><td>&quot;NY&quot;</td><td>&quot;10032&quot;</td><td>&quot;36061&quot;</td><td>&quot;024100&quot;</td><td>&quot;1002&quot;</td><td>&quot;B&quot;</td><td>&quot;36061_24100&quot;</td><td>2023</td><td>30010</td><td>&quot;Assd&quot;</td><td>550000</td></tr><tr><td>91950231</td><td>30130</td><td>2023</td><td>70249</td><td>2023</td><td>0</td><td>null</td><td>null</td><td>&quot;R&quot;</td><td>2024-02-07</td><td>40.835315</td><td>-73.9465</td><td>&quot;807 RIVERSIDE …</td><td>&quot;NEW YORK&quot;</td><td>&quot;NY&quot;</td><td>&quot;10032&quot;</td><td>&quot;36061&quot;</td><td>&quot;024100&quot;</td><td>&quot;1002&quot;</td><td>&quot;B&quot;</td><td>&quot;36061_24100&quot;</td><td>2023</td><td>30130</td><td>&quot;Assd&quot;</td><td>4601351</td></tr><tr><td>91951304</td><td>36494</td><td>2023</td><td>1141000</td><td>2023</td><td>0</td><td>null</td><td>null</td><td>&quot;R&quot;</td><td>2024-02-07</td><td>40.876565</td><td>-73.910214</td><td>&quot;27 VAN CORLEAR…</td><td>&quot;BRONX&quot;</td><td>&quot;NY&quot;</td><td>&quot;10463&quot;</td><td>&quot;36061&quot;</td><td>&quot;030900&quot;</td><td>&quot;4002&quot;</td><td>&quot;B&quot;</td><td>&quot;36061_30900&quot;</td><td>2023</td><td>36494</td><td>&quot;Assd&quot;</td><td>971562</td></tr></tbody></table></div>"
      ],
      "text/plain": [
       "shape: (100_728, 25)\n",
       "┌────────────┬──────────────┬──────────┬──────────────┬───┬──────┬────────┬──────────────┬─────────┐\n",
       "│ PropertyID ┆ AssdTotalVal ┆ AssdYear ┆ MarketTotalV ┆ … ┆ Year ┆ Value  ┆ AssessmentUs ┆ SaleAmt │\n",
       "│ ---        ┆ ue           ┆ ---      ┆ alue         ┆   ┆ ---  ┆ ---    ┆ ed           ┆ ---     │\n",
       "│ i64        ┆ ---          ┆ i64      ┆ ---          ┆   ┆ i64  ┆ i64    ┆ ---          ┆ i64     │\n",
       "│            ┆ i64          ┆          ┆ i64          ┆   ┆      ┆        ┆ str          ┆         │\n",
       "╞════════════╪══════════════╪══════════╪══════════════╪═══╪══════╪════════╪══════════════╪═════════╡\n",
       "│ 91847870   ┆ 117677       ┆ 2018     ┆ 261504       ┆ … ┆ 2018 ┆ 117677 ┆ Assd         ┆ 1580000 │\n",
       "│ 91849008   ┆ 247162       ┆ 2018     ┆ 1462000      ┆ … ┆ 2018 ┆ 247162 ┆ Assd         ┆ 4400000 │\n",
       "│ 91848046   ┆ 71155        ┆ 2018     ┆ 158123       ┆ … ┆ 2018 ┆ 71155  ┆ Assd         ┆ 712775  │\n",
       "│ 91846549   ┆ 149310       ┆ 2018     ┆ 331800       ┆ … ┆ 2018 ┆ 149310 ┆ Assd         ┆ 2475000 │\n",
       "│ …          ┆ …            ┆ …        ┆ …            ┆ … ┆ …    ┆ …      ┆ …            ┆ …       │\n",
       "│ 91950055   ┆ 90672        ┆ 2023     ┆ 213719       ┆ … ┆ 2023 ┆ 90672  ┆ Assd         ┆ 570000  │\n",
       "│ 91949993   ┆ 30010        ┆ 2023     ┆ 67985        ┆ … ┆ 2023 ┆ 30010  ┆ Assd         ┆ 550000  │\n",
       "│ 91950231   ┆ 30130        ┆ 2023     ┆ 70249        ┆ … ┆ 2023 ┆ 30130  ┆ Assd         ┆ 4601351 │\n",
       "│ 91951304   ┆ 36494        ┆ 2023     ┆ 1141000      ┆ … ┆ 2023 ┆ 36494  ┆ Assd         ┆ 971562  │\n",
       "└────────────┴──────────────┴──────────┴──────────────┴───┴──────┴────────┴──────────────┴─────────┘"
      ]
     },
     "execution_count": 13,
     "metadata": {},
     "output_type": "execute_result"
    }
   ],
   "source": [
    "merged.filter(\n",
    "    pl.col(\"SaleAmt\").is_not_null()\n",
    ")"
   ]
  },
  {
   "cell_type": "code",
   "execution_count": 15,
   "metadata": {},
   "outputs": [
    {
     "data": {
      "text/html": [
       "<div><style>\n",
       ".dataframe > thead > tr > th,\n",
       ".dataframe > tbody > tr > td {\n",
       "  text-align: right;\n",
       "  white-space: pre-wrap;\n",
       "}\n",
       "</style>\n",
       "<small>shape: (175_719, 3)</small><table border=\"1\" class=\"dataframe\"><thead><tr><th>PropertyID</th><th>SaleAmt</th><th>RecordingYear</th></tr><tr><td>i64</td><td>i64</td><td>i64</td></tr></thead><tbody><tr><td>116347959</td><td>305000</td><td>2022</td></tr><tr><td>116347964</td><td>350000</td><td>2018</td></tr><tr><td>116347965</td><td>40000</td><td>2018</td></tr><tr><td>116347965</td><td>485000</td><td>2023</td></tr><tr><td>116347957</td><td>225000</td><td>2021</td></tr><tr><td>116347955</td><td>250000</td><td>2022</td></tr><tr><td>116347955</td><td>235000</td><td>2018</td></tr><tr><td>116347970</td><td>412500</td><td>2022</td></tr><tr><td>116347972</td><td>330000</td><td>2018</td></tr><tr><td>116347978</td><td>280000</td><td>2018</td></tr><tr><td>116347979</td><td>345000</td><td>2022</td></tr><tr><td>116347981</td><td>335000</td><td>2018</td></tr><tr><td>&hellip;</td><td>&hellip;</td><td>&hellip;</td></tr><tr><td>172699439</td><td>1395000</td><td>2023</td></tr><tr><td>172699440</td><td>1695000</td><td>2023</td></tr><tr><td>172699445</td><td>1800000</td><td>2022</td></tr><tr><td>172699520</td><td>995000</td><td>2021</td></tr><tr><td>172699526</td><td>1025000</td><td>2022</td></tr><tr><td>172699529</td><td>1175000</td><td>2023</td></tr><tr><td>172699531</td><td>1050000</td><td>2022</td></tr><tr><td>172699539</td><td>2915289</td><td>2022</td></tr><tr><td>172699146</td><td>280000</td><td>2024</td></tr><tr><td>172698376</td><td>225000</td><td>2023</td></tr><tr><td>172697709</td><td>385000</td><td>2019</td></tr><tr><td>172697145</td><td>415000</td><td>2022</td></tr></tbody></table></div>"
      ],
      "text/plain": [
       "shape: (175_719, 3)\n",
       "┌────────────┬─────────┬───────────────┐\n",
       "│ PropertyID ┆ SaleAmt ┆ RecordingYear │\n",
       "│ ---        ┆ ---     ┆ ---           │\n",
       "│ i64        ┆ i64     ┆ i64           │\n",
       "╞════════════╪═════════╪═══════════════╡\n",
       "│ 116347959  ┆ 305000  ┆ 2022          │\n",
       "│ 116347964  ┆ 350000  ┆ 2018          │\n",
       "│ 116347965  ┆ 40000   ┆ 2018          │\n",
       "│ 116347965  ┆ 485000  ┆ 2023          │\n",
       "│ …          ┆ …       ┆ …             │\n",
       "│ 172699146  ┆ 280000  ┆ 2024          │\n",
       "│ 172698376  ┆ 225000  ┆ 2023          │\n",
       "│ 172697709  ┆ 385000  ┆ 2019          │\n",
       "│ 172697145  ┆ 415000  ┆ 2022          │\n",
       "└────────────┴─────────┴───────────────┘"
      ]
     },
     "execution_count": 15,
     "metadata": {},
     "output_type": "execute_result"
    }
   ],
   "source": [
    "sales.filter(\n",
    "    pl.col('RecordingYear') > 2017\n",
    ")"
   ]
  },
  {
   "cell_type": "code",
   "execution_count": null,
   "metadata": {},
   "outputs": [],
   "source": [
    "sales.schema"
   ]
  },
  {
   "cell_type": "code",
   "execution_count": null,
   "metadata": {},
   "outputs": [],
   "source": [
    "valhist.shape\n",
    "\n",
    "# property file - propertyid is not null, data type issues"
   ]
  },
  {
   "cell_type": "code",
   "execution_count": null,
   "metadata": {},
   "outputs": [],
   "source": [
    "ranked_sales = pl.read_parquet(\"/Users/claireboyd/internships/mansueto/firstamerican-etl/dev/36061/staging/ranked_Deed36061.parquet\")"
   ]
  },
  {
   "cell_type": "code",
   "execution_count": null,
   "metadata": {},
   "outputs": [],
   "source": [
    "ranked_sales.schema"
   ]
  },
  {
   "cell_type": "code",
   "execution_count": null,
   "metadata": {},
   "outputs": [],
   "source": [
    "valhist.schema"
   ]
  }
 ],
 "metadata": {
  "kernelspec": {
   "display_name": "Python 3",
   "language": "python",
   "name": "python3"
  },
  "language_info": {
   "codemirror_mode": {
    "name": "ipython",
    "version": 3
   },
   "file_extension": ".py",
   "mimetype": "text/x-python",
   "name": "python",
   "nbconvert_exporter": "python",
   "pygments_lexer": "ipython3",
   "version": "3.10.8"
  },
  "orig_nbformat": 4
 },
 "nbformat": 4,
 "nbformat_minor": 2
}
