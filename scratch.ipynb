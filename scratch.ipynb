{
 "cells": [
  {
   "cell_type": "code",
   "execution_count": 66,
   "metadata": {},
   "outputs": [
    {
     "name": "stdout",
     "output_type": "stream",
     "text": [
      "The autoreload extension is already loaded. To reload it, use:\n",
      "  %reload_ext autoreload\n"
     ]
    }
   ],
   "source": [
    "#set up autoreload\n",
    "%load_ext autoreload\n",
    "%autoreload 2"
   ]
  },
  {
   "cell_type": "code",
   "execution_count": 67,
   "metadata": {},
   "outputs": [],
   "source": [
    "import polars as pl\n",
    "from pathlib import Path\n",
    "\n",
    "import importlib  \n",
    "fa_etl = importlib.import_module(\"fa-etl\")"
   ]
  },
  {
   "cell_type": "code",
   "execution_count": 68,
   "metadata": {},
   "outputs": [],
   "source": [
    "county = \"36061\"\n",
    "path_to_dir = \"/Users/claireboyd/internships/mansueto/firstamerican-etl/\""
   ]
  },
  {
   "cell_type": "code",
   "execution_count": 69,
   "metadata": {},
   "outputs": [],
   "source": [
    "taxhist = pl.read_parquet(path_to_dir+f\"dev/{county}/staging/TaxHist{county}.parquet\")\n",
    "valhist = pl.read_parquet(path_to_dir+f\"dev/{county}/staging/ranked_ValHist{county}.parquet\")\n",
    "annual = pl.read_parquet(path_to_dir+f\"dev/{county}/staging/Prop{county}.parquet\")\n",
    "sales = pl.read_parquet(path_to_dir+f\"dev/{county}/staging/ranked_Deed{county}.parquet\")"
   ]
  },
  {
   "cell_type": "code",
   "execution_count": 70,
   "metadata": {},
   "outputs": [
    {
     "data": {
      "text/html": [
       "<div><style>\n",
       ".dataframe > thead > tr > th,\n",
       ".dataframe > tbody > tr > td {\n",
       "  text-align: right;\n",
       "  white-space: pre-wrap;\n",
       "}\n",
       "</style>\n",
       "<small>shape: (1_997_157, 12)</small><table border=\"1\" class=\"dataframe\"><thead><tr><th>PropertyID</th><th>AssdTotalValue</th><th>AssdYear</th><th>MarketTotalValue</th><th>MarketValueYear</th><th>ApprTotalValue</th><th>ApprYear</th><th>TaxableYear</th><th>Year</th><th>Value</th><th>AssessmentUsed</th><th>RecentValueByYear</th></tr><tr><td>i64</td><td>i64</td><td>i64</td><td>i64</td><td>i64</td><td>i64</td><td>i64</td><td>i64</td><td>i64</td><td>i64</td><td>str</td><td>u32</td></tr></thead><tbody><tr><td>91849032</td><td>672438</td><td>2018</td><td>4558000</td><td>2018</td><td>0</td><td>null</td><td>null</td><td>2018</td><td>4558000</td><td>&quot;Market&quot;</td><td>1</td></tr><tr><td>91849011</td><td>109355</td><td>2018</td><td>243012</td><td>2018</td><td>0</td><td>null</td><td>null</td><td>2018</td><td>243012</td><td>&quot;Market&quot;</td><td>1</td></tr><tr><td>91849026</td><td>616712</td><td>2018</td><td>3799000</td><td>2018</td><td>0</td><td>null</td><td>null</td><td>2018</td><td>3799000</td><td>&quot;Market&quot;</td><td>1</td></tr><tr><td>91849025</td><td>232401</td><td>2018</td><td>516447</td><td>2018</td><td>0</td><td>null</td><td>null</td><td>2018</td><td>516447</td><td>&quot;Market&quot;</td><td>1</td></tr><tr><td>91849024</td><td>576595</td><td>2018</td><td>3799000</td><td>2018</td><td>0</td><td>null</td><td>null</td><td>2018</td><td>3799000</td><td>&quot;Market&quot;</td><td>1</td></tr><tr><td>91848291</td><td>41919</td><td>2018</td><td>93153</td><td>2018</td><td>0</td><td>null</td><td>null</td><td>2018</td><td>93153</td><td>&quot;Market&quot;</td><td>1</td></tr><tr><td>91848380</td><td>41919</td><td>2018</td><td>93153</td><td>2018</td><td>0</td><td>null</td><td>null</td><td>2018</td><td>93153</td><td>&quot;Market&quot;</td><td>1</td></tr><tr><td>91848104</td><td>108484</td><td>2018</td><td>241076</td><td>2018</td><td>0</td><td>null</td><td>null</td><td>2018</td><td>241076</td><td>&quot;Market&quot;</td><td>1</td></tr><tr><td>91847856</td><td>73548</td><td>2018</td><td>163440</td><td>2018</td><td>0</td><td>null</td><td>null</td><td>2018</td><td>163440</td><td>&quot;Market&quot;</td><td>1</td></tr><tr><td>91847850</td><td>1093365</td><td>2018</td><td>3625000</td><td>2018</td><td>0</td><td>null</td><td>null</td><td>2018</td><td>3625000</td><td>&quot;Market&quot;</td><td>1</td></tr><tr><td>91847993</td><td>254799</td><td>2018</td><td>566219</td><td>2018</td><td>0</td><td>null</td><td>null</td><td>2018</td><td>566219</td><td>&quot;Market&quot;</td><td>1</td></tr><tr><td>91847796</td><td>297186</td><td>2018</td><td>660413</td><td>2018</td><td>0</td><td>null</td><td>null</td><td>2018</td><td>660413</td><td>&quot;Market&quot;</td><td>1</td></tr><tr><td>&hellip;</td><td>&hellip;</td><td>&hellip;</td><td>&hellip;</td><td>&hellip;</td><td>&hellip;</td><td>&hellip;</td><td>&hellip;</td><td>&hellip;</td><td>&hellip;</td><td>&hellip;</td><td>&hellip;</td></tr><tr><td>91951298</td><td>30854</td><td>2023</td><td>867000</td><td>2023</td><td>0</td><td>null</td><td>null</td><td>2023</td><td>867000</td><td>&quot;Market&quot;</td><td>1</td></tr><tr><td>91951295</td><td>32521</td><td>2023</td><td>894000</td><td>2023</td><td>0</td><td>null</td><td>null</td><td>2023</td><td>894000</td><td>&quot;Market&quot;</td><td>1</td></tr><tr><td>91951420</td><td>13144</td><td>2023</td><td>409734</td><td>2023</td><td>0</td><td>null</td><td>null</td><td>2023</td><td>409734</td><td>&quot;Market&quot;</td><td>1</td></tr><tr><td>91950941</td><td>2020410</td><td>2023</td><td>4717000</td><td>2023</td><td>0</td><td>null</td><td>null</td><td>2023</td><td>4717000</td><td>&quot;Market&quot;</td><td>1</td></tr><tr><td>91951417</td><td>13249</td><td>2023</td><td>413026</td><td>2023</td><td>0</td><td>null</td><td>null</td><td>2023</td><td>413026</td><td>&quot;Market&quot;</td><td>1</td></tr><tr><td>91950935</td><td>1907280</td><td>2023</td><td>4939000</td><td>2023</td><td>0</td><td>null</td><td>null</td><td>2023</td><td>4939000</td><td>&quot;Market&quot;</td><td>1</td></tr><tr><td>91951423</td><td>13474</td><td>2023</td><td>420014</td><td>2023</td><td>0</td><td>null</td><td>null</td><td>2023</td><td>420014</td><td>&quot;Market&quot;</td><td>1</td></tr><tr><td>91951176</td><td>61171</td><td>2023</td><td>143566</td><td>2023</td><td>0</td><td>null</td><td>null</td><td>2023</td><td>143566</td><td>&quot;Market&quot;</td><td>1</td></tr><tr><td>91951182</td><td>40221</td><td>2023</td><td>94399</td><td>2023</td><td>0</td><td>null</td><td>null</td><td>2023</td><td>94399</td><td>&quot;Market&quot;</td><td>1</td></tr><tr><td>91951661</td><td>1439820</td><td>2023</td><td>3231000</td><td>2023</td><td>0</td><td>null</td><td>null</td><td>2023</td><td>3231000</td><td>&quot;Market&quot;</td><td>1</td></tr><tr><td>91951664</td><td>981730</td><td>2023</td><td>2719000</td><td>2023</td><td>0</td><td>null</td><td>null</td><td>2023</td><td>2719000</td><td>&quot;Market&quot;</td><td>1</td></tr><tr><td>91951667</td><td>689130</td><td>2023</td><td>1773000</td><td>2023</td><td>0</td><td>null</td><td>null</td><td>2023</td><td>1773000</td><td>&quot;Market&quot;</td><td>1</td></tr></tbody></table></div>"
      ],
      "text/plain": [
       "shape: (1_997_157, 12)\n",
       "┌────────────┬─────────────┬──────────┬─────────────┬───┬──────┬─────────┬────────────┬────────────┐\n",
       "│ PropertyID ┆ AssdTotalVa ┆ AssdYear ┆ MarketTotal ┆ … ┆ Year ┆ Value   ┆ Assessment ┆ RecentValu │\n",
       "│ ---        ┆ lue         ┆ ---      ┆ Value       ┆   ┆ ---  ┆ ---     ┆ Used       ┆ eByYear    │\n",
       "│ i64        ┆ ---         ┆ i64      ┆ ---         ┆   ┆ i64  ┆ i64     ┆ ---        ┆ ---        │\n",
       "│            ┆ i64         ┆          ┆ i64         ┆   ┆      ┆         ┆ str        ┆ u32        │\n",
       "╞════════════╪═════════════╪══════════╪═════════════╪═══╪══════╪═════════╪════════════╪════════════╡\n",
       "│ 91849032   ┆ 672438      ┆ 2018     ┆ 4558000     ┆ … ┆ 2018 ┆ 4558000 ┆ Market     ┆ 1          │\n",
       "│ 91849011   ┆ 109355      ┆ 2018     ┆ 243012      ┆ … ┆ 2018 ┆ 243012  ┆ Market     ┆ 1          │\n",
       "│ 91849026   ┆ 616712      ┆ 2018     ┆ 3799000     ┆ … ┆ 2018 ┆ 3799000 ┆ Market     ┆ 1          │\n",
       "│ 91849025   ┆ 232401      ┆ 2018     ┆ 516447      ┆ … ┆ 2018 ┆ 516447  ┆ Market     ┆ 1          │\n",
       "│ …          ┆ …           ┆ …        ┆ …           ┆ … ┆ …    ┆ …       ┆ …          ┆ …          │\n",
       "│ 91951182   ┆ 40221       ┆ 2023     ┆ 94399       ┆ … ┆ 2023 ┆ 94399   ┆ Market     ┆ 1          │\n",
       "│ 91951661   ┆ 1439820     ┆ 2023     ┆ 3231000     ┆ … ┆ 2023 ┆ 3231000 ┆ Market     ┆ 1          │\n",
       "│ 91951664   ┆ 981730      ┆ 2023     ┆ 2719000     ┆ … ┆ 2023 ┆ 2719000 ┆ Market     ┆ 1          │\n",
       "│ 91951667   ┆ 689130      ┆ 2023     ┆ 1773000     ┆ … ┆ 2023 ┆ 1773000 ┆ Market     ┆ 1          │\n",
       "└────────────┴─────────────┴──────────┴─────────────┴───┴──────┴─────────┴────────────┴────────────┘"
      ]
     },
     "execution_count": 70,
     "metadata": {},
     "output_type": "execute_result"
    }
   ],
   "source": [
    "valhist.filter(\n",
    "    pl.col('Year') > 2017\n",
    ")"
   ]
  },
  {
   "cell_type": "code",
   "execution_count": 71,
   "metadata": {},
   "outputs": [],
   "source": [
    "merged = pl.read_parquet(f\"/Users/claireboyd/internships/mansueto/firstamerican-etl/dev/{county}/unified/merged.parquet\")"
   ]
  },
  {
   "cell_type": "code",
   "execution_count": 72,
   "metadata": {},
   "outputs": [
    {
     "data": {
      "text/plain": [
       "(2456743, 28)"
      ]
     },
     "execution_count": 72,
     "metadata": {},
     "output_type": "execute_result"
    }
   ],
   "source": [
    "merged.shape"
   ]
  },
  {
   "cell_type": "code",
   "execution_count": 73,
   "metadata": {},
   "outputs": [
    {
     "data": {
      "text/html": [
       "<div><style>\n",
       ".dataframe > thead > tr > th,\n",
       ".dataframe > tbody > tr > td {\n",
       "  text-align: right;\n",
       "  white-space: pre-wrap;\n",
       "}\n",
       "</style>\n",
       "<small>shape: (10, 28)</small><table border=\"1\" class=\"dataframe\"><thead><tr><th>PropertyID</th><th>AssdTotalValue</th><th>AssdYear</th><th>MarketTotalValue</th><th>MarketValueYear</th><th>ApprTotalValue</th><th>ApprYear</th><th>TaxableYear</th><th>Year</th><th>Value</th><th>AssessmentUsed</th><th>RecentValueByYear</th><th>PropertyClassID</th><th>FATimeStamp</th><th>SitusLatitude</th><th>SitusLongitude</th><th>SitusFullStreetAddress</th><th>SitusCity</th><th>SitusState</th><th>SitusZIP5</th><th>FIPS</th><th>SitusCensusTract</th><th>SitusCensusBlock</th><th>SitusGeoStatusCode</th><th>FIPS_SitusCensusTract</th><th>SaleAmt</th><th>TaxAmt</th><th>TaxAmtAdjusted</th></tr><tr><td>i64</td><td>i64</td><td>i64</td><td>i64</td><td>i64</td><td>i64</td><td>i64</td><td>i64</td><td>i64</td><td>i64</td><td>str</td><td>u32</td><td>str</td><td>date</td><td>f64</td><td>f64</td><td>str</td><td>str</td><td>str</td><td>str</td><td>str</td><td>str</td><td>str</td><td>str</td><td>str</td><td>i64</td><td>i64</td><td>f64</td></tr></thead><tbody><tr><td>91849011</td><td>109355</td><td>2018</td><td>243012</td><td>2018</td><td>0</td><td>null</td><td>null</td><td>2018</td><td>243012</td><td>&quot;Market&quot;</td><td>1</td><td>&quot;R&quot;</td><td>2024-02-07</td><td>40.744385</td><td>-73.984104</td><td>&quot;39 E 29TH ST A…</td><td>&quot;NEW YORK&quot;</td><td>&quot;NY&quot;</td><td>&quot;10016&quot;</td><td>&quot;36061&quot;</td><td>&quot;007400&quot;</td><td>&quot;2001&quot;</td><td>&quot;B&quot;</td><td>&quot;36061_7400&quot;</td><td>null</td><td>954788</td><td>9547.88</td></tr><tr><td>91849025</td><td>232401</td><td>2018</td><td>516447</td><td>2018</td><td>0</td><td>null</td><td>null</td><td>2018</td><td>516447</td><td>&quot;Market&quot;</td><td>1</td><td>&quot;R&quot;</td><td>2024-02-07</td><td>40.744385</td><td>-73.984104</td><td>&quot;39 E 29TH ST A…</td><td>&quot;NEW YORK&quot;</td><td>&quot;NY&quot;</td><td>&quot;10016&quot;</td><td>&quot;36061&quot;</td><td>&quot;007400&quot;</td><td>&quot;2001&quot;</td><td>&quot;B&quot;</td><td>&quot;36061_7400&quot;</td><td>null</td><td>2029124</td><td>20291.24</td></tr><tr><td>91848291</td><td>41919</td><td>2018</td><td>93153</td><td>2018</td><td>0</td><td>null</td><td>null</td><td>2018</td><td>93153</td><td>&quot;Market&quot;</td><td>1</td><td>&quot;R&quot;</td><td>2024-02-07</td><td>40.745345</td><td>-73.999298</td><td>&quot;312 W 23RD ST …</td><td>&quot;NEW YORK&quot;</td><td>&quot;NY&quot;</td><td>&quot;10011&quot;</td><td>&quot;36061&quot;</td><td>&quot;009300&quot;</td><td>&quot;2001&quot;</td><td>&quot;B&quot;</td><td>&quot;36061_9300&quot;</td><td>null</td><td>502220</td><td>5022.2</td></tr><tr><td>91848380</td><td>41919</td><td>2018</td><td>93153</td><td>2018</td><td>0</td><td>null</td><td>null</td><td>2018</td><td>93153</td><td>&quot;Market&quot;</td><td>1</td><td>&quot;R&quot;</td><td>2024-02-07</td><td>40.745345</td><td>-73.999298</td><td>&quot;312 W 23RD ST …</td><td>&quot;NEW YORK&quot;</td><td>&quot;NY&quot;</td><td>&quot;10011&quot;</td><td>&quot;36061&quot;</td><td>&quot;009300&quot;</td><td>&quot;2001&quot;</td><td>&quot;B&quot;</td><td>&quot;36061_9300&quot;</td><td>null</td><td>0</td><td>0.0</td></tr><tr><td>91848104</td><td>108484</td><td>2018</td><td>241076</td><td>2018</td><td>0</td><td>null</td><td>null</td><td>2018</td><td>241076</td><td>&quot;Market&quot;</td><td>1</td><td>&quot;R&quot;</td><td>2024-02-07</td><td>40.750965</td><td>-73.982198</td><td>&quot;425 5TH AVE AP…</td><td>&quot;NEW YORK&quot;</td><td>&quot;NY&quot;</td><td>&quot;10016&quot;</td><td>&quot;36061&quot;</td><td>&quot;008200&quot;</td><td>&quot;2004&quot;</td><td>&quot;B&quot;</td><td>&quot;36061_8200&quot;</td><td>null</td><td>1205772</td><td>12057.72</td></tr><tr><td>91847856</td><td>73548</td><td>2018</td><td>163440</td><td>2018</td><td>0</td><td>null</td><td>null</td><td>2018</td><td>163440</td><td>&quot;Market&quot;</td><td>1</td><td>&quot;R&quot;</td><td>2024-02-07</td><td>40.750965</td><td>-73.982198</td><td>&quot;425 5TH AVE AP…</td><td>&quot;NEW YORK&quot;</td><td>&quot;NY&quot;</td><td>&quot;10016&quot;</td><td>&quot;36061&quot;</td><td>&quot;008200&quot;</td><td>&quot;2004&quot;</td><td>&quot;B&quot;</td><td>&quot;36061_8200&quot;</td><td>null</td><td>791236</td><td>7912.36</td></tr><tr><td>91847850</td><td>1093365</td><td>2018</td><td>3625000</td><td>2018</td><td>0</td><td>null</td><td>null</td><td>2018</td><td>3625000</td><td>&quot;Market&quot;</td><td>1</td><td>&quot;R&quot;</td><td>2024-02-07</td><td>40.739371</td><td>-73.989025</td><td>&quot;24 E 21ST ST #…</td><td>&quot;NEW YORK&quot;</td><td>&quot;NY&quot;</td><td>&quot;10010&quot;</td><td>&quot;36061&quot;</td><td>&quot;005200&quot;</td><td>&quot;1000&quot;</td><td>&quot;B&quot;</td><td>&quot;36061_5200&quot;</td><td>null</td><td>13985640</td><td>139856.4</td></tr><tr><td>91847993</td><td>254799</td><td>2018</td><td>566219</td><td>2018</td><td>0</td><td>null</td><td>null</td><td>2018</td><td>566219</td><td>&quot;Market&quot;</td><td>1</td><td>&quot;R&quot;</td><td>2024-02-07</td><td>40.729882</td><td>-74.007313</td><td>&quot;421 HUDSON ST …</td><td>&quot;NEW YORK&quot;</td><td>&quot;NY&quot;</td><td>&quot;10014&quot;</td><td>&quot;36061&quot;</td><td>&quot;006900&quot;</td><td>&quot;2005&quot;</td><td>&quot;B&quot;</td><td>&quot;36061_6900&quot;</td><td>null</td><td>2831008</td><td>28310.08</td></tr><tr><td>91847796</td><td>297186</td><td>2018</td><td>660413</td><td>2018</td><td>0</td><td>null</td><td>null</td><td>2018</td><td>660413</td><td>&quot;Market&quot;</td><td>1</td><td>&quot;R&quot;</td><td>2024-02-07</td><td>40.739961</td><td>-73.990361</td><td>&quot;141 5TH AVE AP…</td><td>&quot;NEW YORK&quot;</td><td>&quot;NY&quot;</td><td>&quot;10010&quot;</td><td>&quot;36061&quot;</td><td>&quot;005200&quot;</td><td>&quot;2000&quot;</td><td>&quot;B&quot;</td><td>&quot;36061_5200&quot;</td><td>null</td><td>3180028</td><td>31800.28</td></tr><tr><td>91847870</td><td>117677</td><td>2018</td><td>261504</td><td>2018</td><td>0</td><td>null</td><td>null</td><td>2018</td><td>261504</td><td>&quot;Market&quot;</td><td>1</td><td>&quot;R&quot;</td><td>2024-02-07</td><td>40.750965</td><td>-73.982198</td><td>&quot;425 5TH AVE AP…</td><td>&quot;NEW YORK&quot;</td><td>&quot;NY&quot;</td><td>&quot;10016&quot;</td><td>&quot;36061&quot;</td><td>&quot;008200&quot;</td><td>&quot;2004&quot;</td><td>&quot;B&quot;</td><td>&quot;36061_8200&quot;</td><td>1580000</td><td>1310424</td><td>13104.24</td></tr></tbody></table></div>"
      ],
      "text/plain": [
       "shape: (10, 28)\n",
       "┌────────────┬────────────┬──────────┬────────────┬───┬───────────┬─────────┬──────────┬───────────┐\n",
       "│ PropertyID ┆ AssdTotalV ┆ AssdYear ┆ MarketTota ┆ … ┆ FIPS_Situ ┆ SaleAmt ┆ TaxAmt   ┆ TaxAmtAdj │\n",
       "│ ---        ┆ alue       ┆ ---      ┆ lValue     ┆   ┆ sCensusTr ┆ ---     ┆ ---      ┆ usted     │\n",
       "│ i64        ┆ ---        ┆ i64      ┆ ---        ┆   ┆ act       ┆ i64     ┆ i64      ┆ ---       │\n",
       "│            ┆ i64        ┆          ┆ i64        ┆   ┆ ---       ┆         ┆          ┆ f64       │\n",
       "│            ┆            ┆          ┆            ┆   ┆ str       ┆         ┆          ┆           │\n",
       "╞════════════╪════════════╪══════════╪════════════╪═══╪═══════════╪═════════╪══════════╪═══════════╡\n",
       "│ 91849011   ┆ 109355     ┆ 2018     ┆ 243012     ┆ … ┆ 36061_740 ┆ null    ┆ 954788   ┆ 9547.88   │\n",
       "│            ┆            ┆          ┆            ┆   ┆ 0         ┆         ┆          ┆           │\n",
       "│ 91849025   ┆ 232401     ┆ 2018     ┆ 516447     ┆ … ┆ 36061_740 ┆ null    ┆ 2029124  ┆ 20291.24  │\n",
       "│            ┆            ┆          ┆            ┆   ┆ 0         ┆         ┆          ┆           │\n",
       "│ 91848291   ┆ 41919      ┆ 2018     ┆ 93153      ┆ … ┆ 36061_930 ┆ null    ┆ 502220   ┆ 5022.2    │\n",
       "│            ┆            ┆          ┆            ┆   ┆ 0         ┆         ┆          ┆           │\n",
       "│ 91848380   ┆ 41919      ┆ 2018     ┆ 93153      ┆ … ┆ 36061_930 ┆ null    ┆ 0        ┆ 0.0       │\n",
       "│            ┆            ┆          ┆            ┆   ┆ 0         ┆         ┆          ┆           │\n",
       "│ …          ┆ …          ┆ …        ┆ …          ┆ … ┆ …         ┆ …       ┆ …        ┆ …         │\n",
       "│ 91847850   ┆ 1093365    ┆ 2018     ┆ 3625000    ┆ … ┆ 36061_520 ┆ null    ┆ 13985640 ┆ 139856.4  │\n",
       "│            ┆            ┆          ┆            ┆   ┆ 0         ┆         ┆          ┆           │\n",
       "│ 91847993   ┆ 254799     ┆ 2018     ┆ 566219     ┆ … ┆ 36061_690 ┆ null    ┆ 2831008  ┆ 28310.08  │\n",
       "│            ┆            ┆          ┆            ┆   ┆ 0         ┆         ┆          ┆           │\n",
       "│ 91847796   ┆ 297186     ┆ 2018     ┆ 660413     ┆ … ┆ 36061_520 ┆ null    ┆ 3180028  ┆ 31800.28  │\n",
       "│            ┆            ┆          ┆            ┆   ┆ 0         ┆         ┆          ┆           │\n",
       "│ 91847870   ┆ 117677     ┆ 2018     ┆ 261504     ┆ … ┆ 36061_820 ┆ 1580000 ┆ 1310424  ┆ 13104.24  │\n",
       "│            ┆            ┆          ┆            ┆   ┆ 0         ┆         ┆          ┆           │\n",
       "└────────────┴────────────┴──────────┴────────────┴───┴───────────┴─────────┴──────────┴───────────┘"
      ]
     },
     "execution_count": 73,
     "metadata": {},
     "output_type": "execute_result"
    }
   ],
   "source": [
    "merged.head(10)"
   ]
  },
  {
   "cell_type": "code",
   "execution_count": 74,
   "metadata": {},
   "outputs": [
    {
     "data": {
      "text/html": [
       "<div><style>\n",
       ".dataframe > thead > tr > th,\n",
       ".dataframe > tbody > tr > td {\n",
       "  text-align: right;\n",
       "  white-space: pre-wrap;\n",
       "}\n",
       "</style>\n",
       "<small>shape: (68_839, 7)</small><table border=\"1\" class=\"dataframe\"><thead><tr><th>PropertyID</th><th>Year</th><th>Value</th><th>SaleAmt</th><th>TaxAmt</th><th>TaxAmtAdjusted</th><th>ApproxTaxRate</th></tr><tr><td>i64</td><td>i64</td><td>i64</td><td>i64</td><td>i64</td><td>f64</td><td>f64</td></tr></thead><tbody><tr><td>91847870</td><td>2018</td><td>261504</td><td>1580000</td><td>1310424</td><td>13104.24</td><td>5.011105</td></tr><tr><td>91849008</td><td>2018</td><td>1462000</td><td>4400000</td><td>3114052</td><td>31140.52</td><td>2.129995</td></tr><tr><td>91848046</td><td>2018</td><td>158123</td><td>712775</td><td>773352</td><td>7733.52</td><td>4.890825</td></tr><tr><td>91846549</td><td>2018</td><td>331800</td><td>2475000</td><td>1527372</td><td>15273.72</td><td>4.603291</td></tr><tr><td>91847537</td><td>2018</td><td>285721</td><td>1625000</td><td>1496148</td><td>14961.48</td><td>5.236395</td></tr><tr><td>91848333</td><td>2018</td><td>793100</td><td>7400000</td><td>3958776</td><td>39587.76</td><td>4.991522</td></tr><tr><td>91846649</td><td>2018</td><td>487975</td><td>3100000</td><td>2518932</td><td>25189.32</td><td>5.16201</td></tr><tr><td>91847215</td><td>2018</td><td>665110</td><td>2825000</td><td>3327036</td><td>33270.36</td><td>5.002234</td></tr><tr><td>91846134</td><td>2022</td><td>1595704</td><td>12500000</td><td>8808528</td><td>88085.28</td><td>5.520152</td></tr><tr><td>91847289</td><td>2018</td><td>318493</td><td>2840000</td><td>1723200</td><td>17232.0</td><td>5.41048</td></tr><tr><td>91848235</td><td>2018</td><td>219758</td><td>840000</td><td>1074844</td><td>10748.44</td><td>4.891035</td></tr><tr><td>91847234</td><td>2018</td><td>217621</td><td>2000000</td><td>1138124</td><td>11381.24</td><td>5.229845</td></tr><tr><td>&hellip;</td><td>&hellip;</td><td>&hellip;</td><td>&hellip;</td><td>&hellip;</td><td>&hellip;</td><td>&hellip;</td></tr><tr><td>91951526</td><td>2020</td><td>96579</td><td>280000</td><td>null</td><td>null</td><td>null</td></tr><tr><td>91950328</td><td>2020</td><td>1759000</td><td>12000000</td><td>null</td><td>null</td><td>null</td></tr><tr><td>91951497</td><td>2023</td><td>864000</td><td>2613000</td><td>4860778</td><td>48607.78</td><td>5.6259</td></tr><tr><td>91951494</td><td>2023</td><td>940000</td><td>2321000</td><td>5288346</td><td>52883.46</td><td>5.6259</td></tr><tr><td>91951499</td><td>2023</td><td>836000</td><td>2566000</td><td>4703252</td><td>47032.52</td><td>5.6259</td></tr><tr><td>91951505</td><td>2023</td><td>931000</td><td>1942000</td><td>5237713</td><td>52377.13</td><td>5.6259</td></tr><tr><td>91951508</td><td>2023</td><td>931000</td><td>2795000</td><td>5237713</td><td>52377.13</td><td>5.6259</td></tr><tr><td>91950049</td><td>2023</td><td>207909</td><td>580000</td><td>1102776</td><td>11027.76</td><td>5.304128</td></tr><tr><td>91950055</td><td>2023</td><td>213719</td><td>570000</td><td>1133581</td><td>11335.81</td><td>5.304072</td></tr><tr><td>91949993</td><td>2023</td><td>67985</td><td>550000</td><td>375185</td><td>3751.85</td><td>5.518644</td></tr><tr><td>91950231</td><td>2023</td><td>70249</td><td>4601351</td><td>376685</td><td>3766.85</td><td>5.36214</td></tr><tr><td>91951304</td><td>2023</td><td>1141000</td><td>971562</td><td>704863</td><td>7048.63</td><td>0.617759</td></tr></tbody></table></div>"
      ],
      "text/plain": [
       "shape: (68_839, 7)\n",
       "┌────────────┬──────┬─────────┬─────────┬─────────┬────────────────┬───────────────┐\n",
       "│ PropertyID ┆ Year ┆ Value   ┆ SaleAmt ┆ TaxAmt  ┆ TaxAmtAdjusted ┆ ApproxTaxRate │\n",
       "│ ---        ┆ ---  ┆ ---     ┆ ---     ┆ ---     ┆ ---            ┆ ---           │\n",
       "│ i64        ┆ i64  ┆ i64     ┆ i64     ┆ i64     ┆ f64            ┆ f64           │\n",
       "╞════════════╪══════╪═════════╪═════════╪═════════╪════════════════╪═══════════════╡\n",
       "│ 91847870   ┆ 2018 ┆ 261504  ┆ 1580000 ┆ 1310424 ┆ 13104.24       ┆ 5.011105      │\n",
       "│ 91849008   ┆ 2018 ┆ 1462000 ┆ 4400000 ┆ 3114052 ┆ 31140.52       ┆ 2.129995      │\n",
       "│ 91848046   ┆ 2018 ┆ 158123  ┆ 712775  ┆ 773352  ┆ 7733.52        ┆ 4.890825      │\n",
       "│ 91846549   ┆ 2018 ┆ 331800  ┆ 2475000 ┆ 1527372 ┆ 15273.72       ┆ 4.603291      │\n",
       "│ …          ┆ …    ┆ …       ┆ …       ┆ …       ┆ …              ┆ …             │\n",
       "│ 91950055   ┆ 2023 ┆ 213719  ┆ 570000  ┆ 1133581 ┆ 11335.81       ┆ 5.304072      │\n",
       "│ 91949993   ┆ 2023 ┆ 67985   ┆ 550000  ┆ 375185  ┆ 3751.85        ┆ 5.518644      │\n",
       "│ 91950231   ┆ 2023 ┆ 70249   ┆ 4601351 ┆ 376685  ┆ 3766.85        ┆ 5.36214       │\n",
       "│ 91951304   ┆ 2023 ┆ 1141000 ┆ 971562  ┆ 704863  ┆ 7048.63        ┆ 0.617759      │\n",
       "└────────────┴──────┴─────────┴─────────┴─────────┴────────────────┴───────────────┘"
      ]
     },
     "execution_count": 74,
     "metadata": {},
     "output_type": "execute_result"
    }
   ],
   "source": [
    "merged.filter([\n",
    "    pl.col(\"SaleAmt\").is_not_null(),\n",
    "    pl.col(\"Year\") > 2017\n",
    "]).select(\n",
    "    ['PropertyID','Year','Value','SaleAmt', 'TaxAmt', 'TaxAmtAdjusted']\n",
    ").with_columns([\n",
    "    (pl.col('TaxAmt')/pl.col('Value')).alias(\"ApproxTaxRate\")\n",
    "])"
   ]
  },
  {
   "cell_type": "code",
   "execution_count": null,
   "metadata": {},
   "outputs": [],
   "source": []
  }
 ],
 "metadata": {
  "kernelspec": {
   "display_name": "Python 3",
   "language": "python",
   "name": "python3"
  },
  "language_info": {
   "codemirror_mode": {
    "name": "ipython",
    "version": 3
   },
   "file_extension": ".py",
   "mimetype": "text/x-python",
   "name": "python",
   "nbconvert_exporter": "python",
   "pygments_lexer": "ipython3",
   "version": "3.10.8"
  },
  "orig_nbformat": 4
 },
 "nbformat": 4,
 "nbformat_minor": 2
}
